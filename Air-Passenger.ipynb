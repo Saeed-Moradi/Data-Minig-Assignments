{
 "cells": [
  {
   "cell_type": "code",
   "execution_count": 59,
   "id": "58749d48",
   "metadata": {},
   "outputs": [],
   "source": [
    "#Import the required modules for vectors and matrix operations, data generation\n",
    "import numpy as np\n",
    "#Import the required modules for plot creation:\n",
    "import matplotlib.pyplot as plt\n",
    "#import the required modules for TimeSeries data generation:\n",
    "import statsmodels.api as sm\n",
    "#Import the required modules for test statistic calculation:\n",
    "import statsmodels.stats as sm_stat\n",
    "#Import the required modules for model estimation:\n",
    "import statsmodels.tsa as smt\n",
    "#Import formula specification\n",
    "import statsmodels.formula.api as smf\n",
    "# Import pandas dataset\n",
    "import pandas as pd"
   ]
  },
  {
   "cell_type": "code",
   "execution_count": 60,
   "id": "dc49de29",
   "metadata": {},
   "outputs": [],
   "source": [
    "def tsdisplay(y, figsize = (14, 8), title = \"\", lags = 20):\n",
    "    tmp_data = pd.Series(y)\n",
    "    fig = plt.figure(figsize = figsize)\n",
    "    #Plot the time series\n",
    "    tmp_data.plot(ax = fig.add_subplot(311), title = \"$Time\\ Series\\ \" + title + \"$\", legend = False)\n",
    "    #Plot the ACF:\n",
    "    sm.graphics.tsa.plot_acf(tmp_data, lags = lags, zero = False, ax = fig.add_subplot(323))\n",
    "    plt.xticks(np.arange(1,  lags + 1, 1.0))\n",
    "    #Plot the PACF:\n",
    "    sm.graphics.tsa.plot_pacf(tmp_data, lags = lags, zero = False, ax = fig.add_subplot(324))\n",
    "    plt.xticks(np.arange(1,  lags + 1, 1.0))\n",
    "    #Plot the QQ plot of the data:\n",
    "    sm.qqplot(tmp_data, line='s', ax = fig.add_subplot(325)) \n",
    "    plt.title(\"QQ Plot\")\n",
    "    #Plot the residual histogram:\n",
    "    fig.add_subplot(326).hist(tmp_data, bins = 40, normed = 1)\n",
    "    plt.title(\"Histogram\")\n",
    "    #Fix the layout of the plots:\n",
    "    plt.tight_layout()\n",
    "    plt.show()"
   ]
  },
  {
   "cell_type": "code",
   "execution_count": 61,
   "id": "6af13cd3",
   "metadata": {},
   "outputs": [],
   "source": [
    "def tsdiag(y, figsize = (14,8), title = \"\", lags = 10):\n",
    "    #The data:\n",
    "    tmp_data = pd.Series(y)\n",
    "    #The Ljung-Box test results for the first k lags:\n",
    "    tmp_acor = list(sm_stat.diagnostic.acorr_ljungbox(tmp_data, lags = lags, boxpierce = True))\n",
    "    # get the p-values\n",
    "    p_vals = pd.Series(tmp_acor[1])\n",
    "    #Start the index from 1 instead of 0 (because Ljung-Box test is for lag values from 1 to k)\n",
    "    p_vals.index += 1\n",
    "    fig = plt.figure(figsize = figsize)\n",
    "    #Plot the p-values:\n",
    "    p_vals.plot(ax = fig.add_subplot(313), linestyle='', marker='o', title = \"p-values for Ljung-Box statistic\", legend = False)\n",
    "    #Add the horizontal 0.05 critical value line\n",
    "    plt.axhline(y = 0.05, color = 'blue', linestyle='--')\n",
    "    # Annotate the p-value points above and to the left of the vertex\n",
    "    x = np.arange(p_vals.size) + 1\n",
    "    for X, Y, Z in zip(x, p_vals, p_vals):\n",
    "        plt.annotate(round(Z, 4), xy=(X,Y), xytext=(-5, 5), ha = 'left', textcoords='offset points')\n",
    "    plt.show()\n",
    "    # Return the statistics:\n",
    "    col_index = [\"Ljung-Box: X-squared\", \"Ljung-Box: p-value\", \"Box-Pierce: X-squared\", \"Box-Pierce: p-value\"]\n",
    "    return pd.DataFrame(tmp_acor, index = col_index, columns = range(1, len(tmp_acor[0]) + 1))"
   ]
  },
  {
   "cell_type": "code",
   "execution_count": 62,
   "id": "9e8a19a4",
   "metadata": {},
   "outputs": [],
   "source": [
    "airpass = sm.datasets.get_rdataset(\"AirPassengers\", \"datasets\")"
   ]
  },
  {
   "cell_type": "code",
   "execution_count": 63,
   "id": "35ba2d57",
   "metadata": {},
   "outputs": [
    {
     "name": "stdout",
     "output_type": "stream",
     "text": [
      "============= ===============\n",
      "AirPassengers R Documentation\n",
      "============= ===============\n",
      "\n",
      "Monthly Airline Passenger Numbers 1949-1960\n",
      "-------------------------------------------\n",
      "\n",
      "Description\n",
      "~~~~~~~~~~~\n",
      "\n",
      "The classic Box & Jenkins airline data. Monthly totals of international\n",
      "airline passengers, 1949 to 1960.\n",
      "\n",
      "Usage\n",
      "~~~~~\n",
      "\n",
      "::\n",
      "\n",
      "   AirPassengers\n",
      "\n",
      "Format\n",
      "~~~~~~\n",
      "\n",
      "A monthly time series, in thousands.\n",
      "\n",
      "Source\n",
      "~~~~~~\n",
      "\n",
      "Box, G. E. P., Jenkins, G. M. and Reinsel, G. C. (1976) *Time Series\n",
      "Analysis, Forecasting and Control.* Third Edition. Holden-Day. Series G.\n",
      "\n",
      "Examples\n",
      "~~~~~~~~\n",
      "\n",
      "::\n",
      "\n",
      "   ## Not run: \n",
      "   ## These are quite slow and so not run by example(AirPassengers)\n",
      "\n",
      "   ## The classic 'airline model', by full ML\n",
      "   (fit <- arima(log10(AirPassengers), c(0, 1, 1),\n",
      "                 seasonal = list(order = c(0, 1, 1), period = 12)))\n",
      "   update(fit, method = \"CSS\")\n",
      "   update(fit, x = window(log10(AirPassengers), start = 1954))\n",
      "   pred <- predict(fit, n.ahead = 24)\n",
      "   tl <- pred$pred - 1.96 * pred$se\n",
      "   tu <- pred$pred + 1.96 * pred$se\n",
      "   ts.plot(AirPassengers, 10^tl, 10^tu, log = \"y\", lty = c(1, 2, 2))\n",
      "\n",
      "   ## full ML fit is the same if the series is reversed, CSS fit is not\n",
      "   ap0 <- rev(log10(AirPassengers))\n",
      "   attributes(ap0) <- attributes(AirPassengers)\n",
      "   arima(ap0, c(0, 1, 1), seasonal = list(order = c(0, 1, 1), period = 12))\n",
      "   arima(ap0, c(0, 1, 1), seasonal = list(order = c(0, 1, 1), period = 12),\n",
      "         method = \"CSS\")\n",
      "\n",
      "   ## Structural Time Series\n",
      "   ap <- log10(AirPassengers) - 2\n",
      "   (fit <- StructTS(ap, type = \"BSM\"))\n",
      "   par(mfrow = c(1, 2))\n",
      "   plot(cbind(ap, fitted(fit)), plot.type = \"single\")\n",
      "   plot(cbind(ap, tsSmooth(fit)), plot.type = \"single\")\n",
      "\n",
      "   ## End(Not run)\n",
      "\n"
     ]
    }
   ],
   "source": [
    "print(airpass.__doc__)"
   ]
  },
  {
   "cell_type": "code",
   "execution_count": 64,
   "id": "04cfee24",
   "metadata": {},
   "outputs": [
    {
     "data": {
      "text/plain": [
       "1949-01-01    112\n",
       "1949-02-01    118\n",
       "1949-03-01    132\n",
       "1949-04-01    129\n",
       "1949-05-01    121\n",
       "Freq: MS, Name: value, dtype: int64"
      ]
     },
     "execution_count": 64,
     "metadata": {},
     "output_type": "execute_result"
    }
   ],
   "source": [
    "airpass = pd.Series(airpass.data[\"value\"])\n",
    "airpass.index = pd.date_range(start = \"1949-01\", periods = len(airpass.index), freq = \"M\").to_period()\n",
    "airpass.index = airpass.index.to_timestamp()\n",
    "airpass.head()"
   ]
  },
  {
   "cell_type": "code",
   "execution_count": 65,
   "id": "225615d8",
   "metadata": {},
   "outputs": [
    {
     "data": {
      "image/png": "[encoded data removed]",
      "text/plain": [
       "<Figure size 1008x360 with 1 Axes>"
      ]
     },
     "metadata": {
      "needs_background": "light"
     },
     "output_type": "display_data"
    }
   ],
   "source": [
    "fig = plt.figure(figsize = (14, 5))\n",
    "airpass.plot(ax = fig.add_subplot(111))\n",
    "plt.show()"
   ]
  },
  {
   "cell_type": "code",
   "execution_count": 66,
   "id": "0edc8e62",
   "metadata": {},
   "outputs": [
    {
     "data": {
      "text/plain": [
       "DatetimeIndex(['1949-01-01', '1949-02-01', '1949-03-01', '1949-04-01',\n",
       "               '1949-05-01', '1949-06-01', '1949-07-01', '1949-08-01',\n",
       "               '1949-09-01', '1949-10-01',\n",
       "               ...\n",
       "               '1960-03-01', '1960-04-01', '1960-05-01', '1960-06-01',\n",
       "               '1960-07-01', '1960-08-01', '1960-09-01', '1960-10-01',\n",
       "               '1960-11-01', '1960-12-01'],\n",
       "              dtype='datetime64[ns]', length=144, freq='MS')"
      ]
     },
     "execution_count": 66,
     "metadata": {},
     "output_type": "execute_result"
    }
   ],
   "source": [
    "airpass.index"
   ]
  },
  {
   "cell_type": "code",
   "execution_count": 67,
   "id": "52bdb26c",
   "metadata": {},
   "outputs": [
    {
     "name": "stdout",
     "output_type": "stream",
     "text": [
      "Int64Index([1949, 1949, 1949, 1949, 1949, 1949, 1949, 1949, 1949, 1949,\n",
      "            ...\n",
      "            1960, 1960, 1960, 1960, 1960, 1960, 1960, 1960, 1960, 1960],\n",
      "           dtype='int64', length=144)\n",
      "Int64Index([ 1,  2,  3,  4,  5,  6,  7,  8,  9, 10,\n",
      "            ...\n",
      "             3,  4,  5,  6,  7,  8,  9, 10, 11, 12],\n",
      "           dtype='int64', length=144)\n"
     ]
    }
   ],
   "source": [
    "print(airpass.index.year)\n",
    "print(airpass.index.month)"
   ]
  },
  {
   "cell_type": "code",
   "execution_count": 68,
   "id": "597f6c7e",
   "metadata": {},
   "outputs": [
    {
     "data": {
      "text/html": [
       "<div>\n",
       "<style scoped>\n",
       "    .dataframe tbody tr th:only-of-type {\n",
       "        vertical-align: middle;\n",
       "    }\n",
       "\n",
       "    .dataframe tbody tr th {\n",
       "        vertical-align: top;\n",
       "    }\n",
       "\n",
       "    .dataframe thead tr th {\n",
       "        text-align: left;\n",
       "    }\n",
       "</style>\n",
       "<table border=\"1\" class=\"dataframe\">\n",
       "  <thead>\n",
       "    <tr>\n",
       "      <th></th>\n",
       "      <th colspan=\"12\" halign=\"left\">value</th>\n",
       "    </tr>\n",
       "    <tr>\n",
       "      <th></th>\n",
       "      <th>1949</th>\n",
       "      <th>1950</th>\n",
       "      <th>1951</th>\n",
       "      <th>1952</th>\n",
       "      <th>1953</th>\n",
       "      <th>1954</th>\n",
       "      <th>1955</th>\n",
       "      <th>1956</th>\n",
       "      <th>1957</th>\n",
       "      <th>1958</th>\n",
       "      <th>1959</th>\n",
       "      <th>1960</th>\n",
       "    </tr>\n",
       "  </thead>\n",
       "  <tbody>\n",
       "    <tr>\n",
       "      <th>1</th>\n",
       "      <td>112</td>\n",
       "      <td>115</td>\n",
       "      <td>145</td>\n",
       "      <td>171</td>\n",
       "      <td>196</td>\n",
       "      <td>204</td>\n",
       "      <td>242</td>\n",
       "      <td>284</td>\n",
       "      <td>315</td>\n",
       "      <td>340</td>\n",
       "      <td>360</td>\n",
       "      <td>417</td>\n",
       "    </tr>\n",
       "    <tr>\n",
       "      <th>2</th>\n",
       "      <td>118</td>\n",
       "      <td>126</td>\n",
       "      <td>150</td>\n",
       "      <td>180</td>\n",
       "      <td>196</td>\n",
       "      <td>188</td>\n",
       "      <td>233</td>\n",
       "      <td>277</td>\n",
       "      <td>301</td>\n",
       "      <td>318</td>\n",
       "      <td>342</td>\n",
       "      <td>391</td>\n",
       "    </tr>\n",
       "    <tr>\n",
       "      <th>3</th>\n",
       "      <td>132</td>\n",
       "      <td>141</td>\n",
       "      <td>178</td>\n",
       "      <td>193</td>\n",
       "      <td>236</td>\n",
       "      <td>235</td>\n",
       "      <td>267</td>\n",
       "      <td>317</td>\n",
       "      <td>356</td>\n",
       "      <td>362</td>\n",
       "      <td>406</td>\n",
       "      <td>419</td>\n",
       "    </tr>\n",
       "    <tr>\n",
       "      <th>4</th>\n",
       "      <td>129</td>\n",
       "      <td>135</td>\n",
       "      <td>163</td>\n",
       "      <td>181</td>\n",
       "      <td>235</td>\n",
       "      <td>227</td>\n",
       "      <td>269</td>\n",
       "      <td>313</td>\n",
       "      <td>348</td>\n",
       "      <td>348</td>\n",
       "      <td>396</td>\n",
       "      <td>461</td>\n",
       "    </tr>\n",
       "    <tr>\n",
       "      <th>5</th>\n",
       "      <td>121</td>\n",
       "      <td>125</td>\n",
       "      <td>172</td>\n",
       "      <td>183</td>\n",
       "      <td>229</td>\n",
       "      <td>234</td>\n",
       "      <td>270</td>\n",
       "      <td>318</td>\n",
       "      <td>355</td>\n",
       "      <td>363</td>\n",
       "      <td>420</td>\n",
       "      <td>472</td>\n",
       "    </tr>\n",
       "  </tbody>\n",
       "</table>\n",
       "</div>"
      ],
      "text/plain": [
       "  value                                                       \n",
       "   1949 1950 1951 1952 1953 1954 1955 1956 1957 1958 1959 1960\n",
       "1   112  115  145  171  196  204  242  284  315  340  360  417\n",
       "2   118  126  150  180  196  188  233  277  301  318  342  391\n",
       "3   132  141  178  193  236  235  267  317  356  362  406  419\n",
       "4   129  135  163  181  235  227  269  313  348  348  396  461\n",
       "5   121  125  172  183  229  234  270  318  355  363  420  472"
      ]
     },
     "execution_count": 68,
     "metadata": {},
     "output_type": "execute_result"
    }
   ],
   "source": [
    "data_to_plot = pd.pivot_table(airpass.to_frame(), index = airpass.index.month, columns = airpass.index.year)\n",
    "data_to_plot.head()"
   ]
  },
  {
   "cell_type": "code",
   "execution_count": 69,
   "id": "957e9919",
   "metadata": {},
   "outputs": [
    {
     "data": {
      "image/png": "[encoded data removed]",
      "text/plain": [
       "<Figure size 1440x576 with 1 Axes>"
      ]
     },
     "metadata": {
      "needs_background": "light"
     },
     "output_type": "display_data"
    }
   ],
   "source": [
    "fig = plt.figure(figsize = (20, 8))\n",
    "data_to_plot.plot(ax = fig.add_subplot(111))\n",
    "plt.show()"
   ]
  },
  {
   "cell_type": "code",
   "execution_count": 70,
   "id": "9624158f",
   "metadata": {},
   "outputs": [
    {
     "ename": "AttributeError",
     "evalue": "'Rectangle' object has no property 'normed'",
     "output_type": "error",
     "traceback": [
      "\u001b[1;31m---------------------------------------------------------------------------\u001b[0m",
      "\u001b[1;31mAttributeError\u001b[0m                            Traceback (most recent call last)",
      "\u001b[1;32m<ipython-input-70-09aa4a4e37cd>\u001b[0m in \u001b[0;36m<module>\u001b[1;34m\u001b[0m\n\u001b[1;32m----> 1\u001b[1;33m \u001b[0mtsdisplay\u001b[0m\u001b[1;33m(\u001b[0m\u001b[0mairpass\u001b[0m\u001b[1;33m)\u001b[0m\u001b[1;33m\u001b[0m\u001b[1;33m\u001b[0m\u001b[0m\n\u001b[0m",
      "\u001b[1;32m<ipython-input-60-dca7e6ad3d9c>\u001b[0m in \u001b[0;36mtsdisplay\u001b[1;34m(y, figsize, title, lags)\u001b[0m\n\u001b[0;32m     14\u001b[0m     \u001b[0mplt\u001b[0m\u001b[1;33m.\u001b[0m\u001b[0mtitle\u001b[0m\u001b[1;33m(\u001b[0m\u001b[1;34m\"QQ Plot\"\u001b[0m\u001b[1;33m)\u001b[0m\u001b[1;33m\u001b[0m\u001b[1;33m\u001b[0m\u001b[0m\n\u001b[0;32m     15\u001b[0m     \u001b[1;31m#Plot the residual histogram:\u001b[0m\u001b[1;33m\u001b[0m\u001b[1;33m\u001b[0m\u001b[1;33m\u001b[0m\u001b[0m\n\u001b[1;32m---> 16\u001b[1;33m     \u001b[0mfig\u001b[0m\u001b[1;33m.\u001b[0m\u001b[0madd_subplot\u001b[0m\u001b[1;33m(\u001b[0m\u001b[1;36m326\u001b[0m\u001b[1;33m)\u001b[0m\u001b[1;33m.\u001b[0m\u001b[0mhist\u001b[0m\u001b[1;33m(\u001b[0m\u001b[0mtmp_data\u001b[0m\u001b[1;33m,\u001b[0m \u001b[0mbins\u001b[0m \u001b[1;33m=\u001b[0m \u001b[1;36m40\u001b[0m\u001b[1;33m,\u001b[0m \u001b[0mnormed\u001b[0m \u001b[1;33m=\u001b[0m \u001b[1;36m1\u001b[0m\u001b[1;33m)\u001b[0m\u001b[1;33m\u001b[0m\u001b[1;33m\u001b[0m\u001b[0m\n\u001b[0m\u001b[0;32m     17\u001b[0m     \u001b[0mplt\u001b[0m\u001b[1;33m.\u001b[0m\u001b[0mtitle\u001b[0m\u001b[1;33m(\u001b[0m\u001b[1;34m\"Histogram\"\u001b[0m\u001b[1;33m)\u001b[0m\u001b[1;33m\u001b[0m\u001b[1;33m\u001b[0m\u001b[0m\n\u001b[0;32m     18\u001b[0m     \u001b[1;31m#Fix the layout of the plots:\u001b[0m\u001b[1;33m\u001b[0m\u001b[1;33m\u001b[0m\u001b[1;33m\u001b[0m\u001b[0m\n",
      "\u001b[1;32m~\\anaconda3\\lib\\site-packages\\matplotlib\\__init__.py\u001b[0m in \u001b[0;36minner\u001b[1;34m(ax, data, *args, **kwargs)\u001b[0m\n\u001b[0;32m   1445\u001b[0m     \u001b[1;32mdef\u001b[0m \u001b[0minner\u001b[0m\u001b[1;33m(\u001b[0m\u001b[0max\u001b[0m\u001b[1;33m,\u001b[0m \u001b[1;33m*\u001b[0m\u001b[0margs\u001b[0m\u001b[1;33m,\u001b[0m \u001b[0mdata\u001b[0m\u001b[1;33m=\u001b[0m\u001b[1;32mNone\u001b[0m\u001b[1;33m,\u001b[0m \u001b[1;33m**\u001b[0m\u001b[0mkwargs\u001b[0m\u001b[1;33m)\u001b[0m\u001b[1;33m:\u001b[0m\u001b[1;33m\u001b[0m\u001b[1;33m\u001b[0m\u001b[0m\n\u001b[0;32m   1446\u001b[0m         \u001b[1;32mif\u001b[0m \u001b[0mdata\u001b[0m \u001b[1;32mis\u001b[0m \u001b[1;32mNone\u001b[0m\u001b[1;33m:\u001b[0m\u001b[1;33m\u001b[0m\u001b[1;33m\u001b[0m\u001b[0m\n\u001b[1;32m-> 1447\u001b[1;33m             \u001b[1;32mreturn\u001b[0m \u001b[0mfunc\u001b[0m\u001b[1;33m(\u001b[0m\u001b[0max\u001b[0m\u001b[1;33m,\u001b[0m \u001b[1;33m*\u001b[0m\u001b[0mmap\u001b[0m\u001b[1;33m(\u001b[0m\u001b[0msanitize_sequence\u001b[0m\u001b[1;33m,\u001b[0m \u001b[0margs\u001b[0m\u001b[1;33m)\u001b[0m\u001b[1;33m,\u001b[0m \u001b[1;33m**\u001b[0m\u001b[0mkwargs\u001b[0m\u001b[1;33m)\u001b[0m\u001b[1;33m\u001b[0m\u001b[1;33m\u001b[0m\u001b[0m\n\u001b[0m\u001b[0;32m   1448\u001b[0m \u001b[1;33m\u001b[0m\u001b[0m\n\u001b[0;32m   1449\u001b[0m         \u001b[0mbound\u001b[0m \u001b[1;33m=\u001b[0m \u001b[0mnew_sig\u001b[0m\u001b[1;33m.\u001b[0m\u001b[0mbind\u001b[0m\u001b[1;33m(\u001b[0m\u001b[0max\u001b[0m\u001b[1;33m,\u001b[0m \u001b[1;33m*\u001b[0m\u001b[0margs\u001b[0m\u001b[1;33m,\u001b[0m \u001b[1;33m**\u001b[0m\u001b[0mkwargs\u001b[0m\u001b[1;33m)\u001b[0m\u001b[1;33m\u001b[0m\u001b[1;33m\u001b[0m\u001b[0m\n",
      "\u001b[1;32m~\\anaconda3\\lib\\site-packages\\matplotlib\\axes\\_axes.py\u001b[0m in \u001b[0;36mhist\u001b[1;34m(self, x, bins, range, density, weights, cumulative, bottom, histtype, align, orientation, rwidth, log, color, label, stacked, **kwargs)\u001b[0m\n\u001b[0;32m   6813\u001b[0m             \u001b[1;32mif\u001b[0m \u001b[0mpatch\u001b[0m\u001b[1;33m:\u001b[0m\u001b[1;33m\u001b[0m\u001b[1;33m\u001b[0m\u001b[0m\n\u001b[0;32m   6814\u001b[0m                 \u001b[0mp\u001b[0m \u001b[1;33m=\u001b[0m \u001b[0mpatch\u001b[0m\u001b[1;33m[\u001b[0m\u001b[1;36m0\u001b[0m\u001b[1;33m]\u001b[0m\u001b[1;33m\u001b[0m\u001b[1;33m\u001b[0m\u001b[0m\n\u001b[1;32m-> 6815\u001b[1;33m                 \u001b[0mp\u001b[0m\u001b[1;33m.\u001b[0m\u001b[0mupdate\u001b[0m\u001b[1;33m(\u001b[0m\u001b[0mkwargs\u001b[0m\u001b[1;33m)\u001b[0m\u001b[1;33m\u001b[0m\u001b[1;33m\u001b[0m\u001b[0m\n\u001b[0m\u001b[0;32m   6816\u001b[0m                 \u001b[1;32mif\u001b[0m \u001b[0mlbl\u001b[0m \u001b[1;32mis\u001b[0m \u001b[1;32mnot\u001b[0m \u001b[1;32mNone\u001b[0m\u001b[1;33m:\u001b[0m\u001b[1;33m\u001b[0m\u001b[1;33m\u001b[0m\u001b[0m\n\u001b[0;32m   6817\u001b[0m                     \u001b[0mp\u001b[0m\u001b[1;33m.\u001b[0m\u001b[0mset_label\u001b[0m\u001b[1;33m(\u001b[0m\u001b[0mlbl\u001b[0m\u001b[1;33m)\u001b[0m\u001b[1;33m\u001b[0m\u001b[1;33m\u001b[0m\u001b[0m\n",
      "\u001b[1;32m~\\anaconda3\\lib\\site-packages\\matplotlib\\artist.py\u001b[0m in \u001b[0;36mupdate\u001b[1;34m(self, props)\u001b[0m\n\u001b[0;32m    994\u001b[0m                     \u001b[0mfunc\u001b[0m \u001b[1;33m=\u001b[0m \u001b[0mgetattr\u001b[0m\u001b[1;33m(\u001b[0m\u001b[0mself\u001b[0m\u001b[1;33m,\u001b[0m \u001b[1;34mf\"set_{k}\"\u001b[0m\u001b[1;33m,\u001b[0m \u001b[1;32mNone\u001b[0m\u001b[1;33m)\u001b[0m\u001b[1;33m\u001b[0m\u001b[1;33m\u001b[0m\u001b[0m\n\u001b[0;32m    995\u001b[0m                     \u001b[1;32mif\u001b[0m \u001b[1;32mnot\u001b[0m \u001b[0mcallable\u001b[0m\u001b[1;33m(\u001b[0m\u001b[0mfunc\u001b[0m\u001b[1;33m)\u001b[0m\u001b[1;33m:\u001b[0m\u001b[1;33m\u001b[0m\u001b[1;33m\u001b[0m\u001b[0m\n\u001b[1;32m--> 996\u001b[1;33m                         raise AttributeError(f\"{type(self).__name__!r} object \"\n\u001b[0m\u001b[0;32m    997\u001b[0m                                              f\"has no property {k!r}\")\n\u001b[0;32m    998\u001b[0m                     \u001b[0mret\u001b[0m\u001b[1;33m.\u001b[0m\u001b[0mappend\u001b[0m\u001b[1;33m(\u001b[0m\u001b[0mfunc\u001b[0m\u001b[1;33m(\u001b[0m\u001b[0mv\u001b[0m\u001b[1;33m)\u001b[0m\u001b[1;33m)\u001b[0m\u001b[1;33m\u001b[0m\u001b[1;33m\u001b[0m\u001b[0m\n",
      "\u001b[1;31mAttributeError\u001b[0m: 'Rectangle' object has no property 'normed'"
     ]
    },
    {
     "data": {
      "image/png": "[encoded data removed]",
      "text/plain": [
       "<Figure size 1008x576 with 5 Axes>"
      ]
     },
     "metadata": {
      "needs_background": "light"
     },
     "output_type": "display_data"
    }
   ],
   "source": [
    "tsdisplay(airpass)"
   ]
  },
  {
   "cell_type": "code",
   "execution_count": 71,
   "id": "383106d1",
   "metadata": {},
   "outputs": [
    {
     "name": "stderr",
     "output_type": "stream",
     "text": [
      "C:\\Users\\smhel\\anaconda3\\lib\\site-packages\\statsmodels\\stats\\diagnostic.py:559: FutureWarning: The value returned will change to a single DataFrame after 0.12 is released.  Set return_df to True to use to return a DataFrame now.  Set return_df to False to silence this warning.\n",
      "  warnings.warn(msg, FutureWarning)\n"
     ]
    },
    {
     "data": {
      "image/png": "[encoded data removed]",
      "text/plain": [
       "<Figure size 1008x576 with 1 Axes>"
      ]
     },
     "metadata": {
      "needs_background": "light"
     },
     "output_type": "display_data"
    },
    {
     "data": {
      "text/html": [
       "<div>\n",
       "<style scoped>\n",
       "    .dataframe tbody tr th:only-of-type {\n",
       "        vertical-align: middle;\n",
       "    }\n",
       "\n",
       "    .dataframe tbody tr th {\n",
       "        vertical-align: top;\n",
       "    }\n",
       "\n",
       "    .dataframe thead th {\n",
       "        text-align: right;\n",
       "    }\n",
       "</style>\n",
       "<table border=\"1\" class=\"dataframe\">\n",
       "  <thead>\n",
       "    <tr style=\"text-align: right;\">\n",
       "      <th></th>\n",
       "      <th>1</th>\n",
       "      <th>2</th>\n",
       "      <th>3</th>\n",
       "      <th>4</th>\n",
       "      <th>5</th>\n",
       "      <th>6</th>\n",
       "      <th>7</th>\n",
       "      <th>8</th>\n",
       "      <th>9</th>\n",
       "      <th>10</th>\n",
       "    </tr>\n",
       "  </thead>\n",
       "  <tbody>\n",
       "    <tr>\n",
       "      <th>Ljung-Box: X-squared</th>\n",
       "      <td>1.321415e+02</td>\n",
       "      <td>2.456462e+02</td>\n",
       "      <td>3.426748e+02</td>\n",
       "      <td>4.277387e+02</td>\n",
       "      <td>5.047966e+02</td>\n",
       "      <td>5.756019e+02</td>\n",
       "      <td>6.430386e+02</td>\n",
       "      <td>7.094845e+02</td>\n",
       "      <td>7.795912e+02</td>\n",
       "      <td>8.570686e+02</td>\n",
       "    </tr>\n",
       "    <tr>\n",
       "      <th>Ljung-Box: p-value</th>\n",
       "      <td>1.393231e-30</td>\n",
       "      <td>4.556318e-54</td>\n",
       "      <td>5.751088e-74</td>\n",
       "      <td>2.817731e-91</td>\n",
       "      <td>7.360195e-107</td>\n",
       "      <td>4.264008e-121</td>\n",
       "      <td>1.305463e-134</td>\n",
       "      <td>6.496271e-148</td>\n",
       "      <td>5.249370e-162</td>\n",
       "      <td>1.100789e-177</td>\n",
       "    </tr>\n",
       "    <tr>\n",
       "      <th>Box-Pierce: X-squared</th>\n",
       "      <td>1.294263e+02</td>\n",
       "      <td>2.398212e+02</td>\n",
       "      <td>3.335270e+02</td>\n",
       "      <td>4.150951e+02</td>\n",
       "      <td>4.884584e+02</td>\n",
       "      <td>5.553839e+02</td>\n",
       "      <td>6.186636e+02</td>\n",
       "      <td>6.805584e+02</td>\n",
       "      <td>7.453831e+02</td>\n",
       "      <td>8.164925e+02</td>\n",
       "    </tr>\n",
       "    <tr>\n",
       "      <th>Box-Pierce: p-value</th>\n",
       "      <td>5.471060e-30</td>\n",
       "      <td>8.384679e-53</td>\n",
       "      <td>5.499710e-72</td>\n",
       "      <td>1.522155e-88</td>\n",
       "      <td>2.473624e-103</td>\n",
       "      <td>9.752966e-117</td>\n",
       "      <td>2.327567e-129</td>\n",
       "      <td>1.095987e-141</td>\n",
       "      <td>1.203020e-154</td>\n",
       "      <td>5.870025e-169</td>\n",
       "    </tr>\n",
       "  </tbody>\n",
       "</table>\n",
       "</div>"
      ],
      "text/plain": [
       "                                 1             2             3             4   \\\n",
       "Ljung-Box: X-squared   1.321415e+02  2.456462e+02  3.426748e+02  4.277387e+02   \n",
       "Ljung-Box: p-value     1.393231e-30  4.556318e-54  5.751088e-74  2.817731e-91   \n",
       "Box-Pierce: X-squared  1.294263e+02  2.398212e+02  3.335270e+02  4.150951e+02   \n",
       "Box-Pierce: p-value    5.471060e-30  8.384679e-53  5.499710e-72  1.522155e-88   \n",
       "\n",
       "                                  5              6              7   \\\n",
       "Ljung-Box: X-squared    5.047966e+02   5.756019e+02   6.430386e+02   \n",
       "Ljung-Box: p-value     7.360195e-107  4.264008e-121  1.305463e-134   \n",
       "Box-Pierce: X-squared   4.884584e+02   5.553839e+02   6.186636e+02   \n",
       "Box-Pierce: p-value    2.473624e-103  9.752966e-117  2.327567e-129   \n",
       "\n",
       "                                  8              9              10  \n",
       "Ljung-Box: X-squared    7.094845e+02   7.795912e+02   8.570686e+02  \n",
       "Ljung-Box: p-value     6.496271e-148  5.249370e-162  1.100789e-177  \n",
       "Box-Pierce: X-squared   6.805584e+02   7.453831e+02   8.164925e+02  \n",
       "Box-Pierce: p-value    1.095987e-141  1.203020e-154  5.870025e-169  "
      ]
     },
     "execution_count": 71,
     "metadata": {},
     "output_type": "execute_result"
    }
   ],
   "source": [
    "tsdiag(airpass)"
   ]
  },
  {
   "cell_type": "code",
   "execution_count": 72,
   "id": "8234300f",
   "metadata": {},
   "outputs": [],
   "source": [
    "log_passengers = np.log(airpass)"
   ]
  },
  {
   "cell_type": "code",
   "execution_count": 73,
   "id": "50d6737c",
   "metadata": {},
   "outputs": [
    {
     "ename": "AttributeError",
     "evalue": "'Rectangle' object has no property 'normed'",
     "output_type": "error",
     "traceback": [
      "\u001b[1;31m---------------------------------------------------------------------------\u001b[0m",
      "\u001b[1;31mAttributeError\u001b[0m                            Traceback (most recent call last)",
      "\u001b[1;32m<ipython-input-73-7507677e3212>\u001b[0m in \u001b[0;36m<module>\u001b[1;34m\u001b[0m\n\u001b[1;32m----> 1\u001b[1;33m \u001b[0mtsdisplay\u001b[0m\u001b[1;33m(\u001b[0m\u001b[0mlog_passengers\u001b[0m\u001b[1;33m)\u001b[0m\u001b[1;33m\u001b[0m\u001b[1;33m\u001b[0m\u001b[0m\n\u001b[0m",
      "\u001b[1;32m<ipython-input-60-dca7e6ad3d9c>\u001b[0m in \u001b[0;36mtsdisplay\u001b[1;34m(y, figsize, title, lags)\u001b[0m\n\u001b[0;32m     14\u001b[0m     \u001b[0mplt\u001b[0m\u001b[1;33m.\u001b[0m\u001b[0mtitle\u001b[0m\u001b[1;33m(\u001b[0m\u001b[1;34m\"QQ Plot\"\u001b[0m\u001b[1;33m)\u001b[0m\u001b[1;33m\u001b[0m\u001b[1;33m\u001b[0m\u001b[0m\n\u001b[0;32m     15\u001b[0m     \u001b[1;31m#Plot the residual histogram:\u001b[0m\u001b[1;33m\u001b[0m\u001b[1;33m\u001b[0m\u001b[1;33m\u001b[0m\u001b[0m\n\u001b[1;32m---> 16\u001b[1;33m     \u001b[0mfig\u001b[0m\u001b[1;33m.\u001b[0m\u001b[0madd_subplot\u001b[0m\u001b[1;33m(\u001b[0m\u001b[1;36m326\u001b[0m\u001b[1;33m)\u001b[0m\u001b[1;33m.\u001b[0m\u001b[0mhist\u001b[0m\u001b[1;33m(\u001b[0m\u001b[0mtmp_data\u001b[0m\u001b[1;33m,\u001b[0m \u001b[0mbins\u001b[0m \u001b[1;33m=\u001b[0m \u001b[1;36m40\u001b[0m\u001b[1;33m,\u001b[0m \u001b[0mnormed\u001b[0m \u001b[1;33m=\u001b[0m \u001b[1;36m1\u001b[0m\u001b[1;33m)\u001b[0m\u001b[1;33m\u001b[0m\u001b[1;33m\u001b[0m\u001b[0m\n\u001b[0m\u001b[0;32m     17\u001b[0m     \u001b[0mplt\u001b[0m\u001b[1;33m.\u001b[0m\u001b[0mtitle\u001b[0m\u001b[1;33m(\u001b[0m\u001b[1;34m\"Histogram\"\u001b[0m\u001b[1;33m)\u001b[0m\u001b[1;33m\u001b[0m\u001b[1;33m\u001b[0m\u001b[0m\n\u001b[0;32m     18\u001b[0m     \u001b[1;31m#Fix the layout of the plots:\u001b[0m\u001b[1;33m\u001b[0m\u001b[1;33m\u001b[0m\u001b[1;33m\u001b[0m\u001b[0m\n",
      "\u001b[1;32m~\\anaconda3\\lib\\site-packages\\matplotlib\\__init__.py\u001b[0m in \u001b[0;36minner\u001b[1;34m(ax, data, *args, **kwargs)\u001b[0m\n\u001b[0;32m   1445\u001b[0m     \u001b[1;32mdef\u001b[0m \u001b[0minner\u001b[0m\u001b[1;33m(\u001b[0m\u001b[0max\u001b[0m\u001b[1;33m,\u001b[0m \u001b[1;33m*\u001b[0m\u001b[0margs\u001b[0m\u001b[1;33m,\u001b[0m \u001b[0mdata\u001b[0m\u001b[1;33m=\u001b[0m\u001b[1;32mNone\u001b[0m\u001b[1;33m,\u001b[0m \u001b[1;33m**\u001b[0m\u001b[0mkwargs\u001b[0m\u001b[1;33m)\u001b[0m\u001b[1;33m:\u001b[0m\u001b[1;33m\u001b[0m\u001b[1;33m\u001b[0m\u001b[0m\n\u001b[0;32m   1446\u001b[0m         \u001b[1;32mif\u001b[0m \u001b[0mdata\u001b[0m \u001b[1;32mis\u001b[0m \u001b[1;32mNone\u001b[0m\u001b[1;33m:\u001b[0m\u001b[1;33m\u001b[0m\u001b[1;33m\u001b[0m\u001b[0m\n\u001b[1;32m-> 1447\u001b[1;33m             \u001b[1;32mreturn\u001b[0m \u001b[0mfunc\u001b[0m\u001b[1;33m(\u001b[0m\u001b[0max\u001b[0m\u001b[1;33m,\u001b[0m \u001b[1;33m*\u001b[0m\u001b[0mmap\u001b[0m\u001b[1;33m(\u001b[0m\u001b[0msanitize_sequence\u001b[0m\u001b[1;33m,\u001b[0m \u001b[0margs\u001b[0m\u001b[1;33m)\u001b[0m\u001b[1;33m,\u001b[0m \u001b[1;33m**\u001b[0m\u001b[0mkwargs\u001b[0m\u001b[1;33m)\u001b[0m\u001b[1;33m\u001b[0m\u001b[1;33m\u001b[0m\u001b[0m\n\u001b[0m\u001b[0;32m   1448\u001b[0m \u001b[1;33m\u001b[0m\u001b[0m\n\u001b[0;32m   1449\u001b[0m         \u001b[0mbound\u001b[0m \u001b[1;33m=\u001b[0m \u001b[0mnew_sig\u001b[0m\u001b[1;33m.\u001b[0m\u001b[0mbind\u001b[0m\u001b[1;33m(\u001b[0m\u001b[0max\u001b[0m\u001b[1;33m,\u001b[0m \u001b[1;33m*\u001b[0m\u001b[0margs\u001b[0m\u001b[1;33m,\u001b[0m \u001b[1;33m**\u001b[0m\u001b[0mkwargs\u001b[0m\u001b[1;33m)\u001b[0m\u001b[1;33m\u001b[0m\u001b[1;33m\u001b[0m\u001b[0m\n",
      "\u001b[1;32m~\\anaconda3\\lib\\site-packages\\matplotlib\\axes\\_axes.py\u001b[0m in \u001b[0;36mhist\u001b[1;34m(self, x, bins, range, density, weights, cumulative, bottom, histtype, align, orientation, rwidth, log, color, label, stacked, **kwargs)\u001b[0m\n\u001b[0;32m   6813\u001b[0m             \u001b[1;32mif\u001b[0m \u001b[0mpatch\u001b[0m\u001b[1;33m:\u001b[0m\u001b[1;33m\u001b[0m\u001b[1;33m\u001b[0m\u001b[0m\n\u001b[0;32m   6814\u001b[0m                 \u001b[0mp\u001b[0m \u001b[1;33m=\u001b[0m \u001b[0mpatch\u001b[0m\u001b[1;33m[\u001b[0m\u001b[1;36m0\u001b[0m\u001b[1;33m]\u001b[0m\u001b[1;33m\u001b[0m\u001b[1;33m\u001b[0m\u001b[0m\n\u001b[1;32m-> 6815\u001b[1;33m                 \u001b[0mp\u001b[0m\u001b[1;33m.\u001b[0m\u001b[0mupdate\u001b[0m\u001b[1;33m(\u001b[0m\u001b[0mkwargs\u001b[0m\u001b[1;33m)\u001b[0m\u001b[1;33m\u001b[0m\u001b[1;33m\u001b[0m\u001b[0m\n\u001b[0m\u001b[0;32m   6816\u001b[0m                 \u001b[1;32mif\u001b[0m \u001b[0mlbl\u001b[0m \u001b[1;32mis\u001b[0m \u001b[1;32mnot\u001b[0m \u001b[1;32mNone\u001b[0m\u001b[1;33m:\u001b[0m\u001b[1;33m\u001b[0m\u001b[1;33m\u001b[0m\u001b[0m\n\u001b[0;32m   6817\u001b[0m                     \u001b[0mp\u001b[0m\u001b[1;33m.\u001b[0m\u001b[0mset_label\u001b[0m\u001b[1;33m(\u001b[0m\u001b[0mlbl\u001b[0m\u001b[1;33m)\u001b[0m\u001b[1;33m\u001b[0m\u001b[1;33m\u001b[0m\u001b[0m\n",
      "\u001b[1;32m~\\anaconda3\\lib\\site-packages\\matplotlib\\artist.py\u001b[0m in \u001b[0;36mupdate\u001b[1;34m(self, props)\u001b[0m\n\u001b[0;32m    994\u001b[0m                     \u001b[0mfunc\u001b[0m \u001b[1;33m=\u001b[0m \u001b[0mgetattr\u001b[0m\u001b[1;33m(\u001b[0m\u001b[0mself\u001b[0m\u001b[1;33m,\u001b[0m \u001b[1;34mf\"set_{k}\"\u001b[0m\u001b[1;33m,\u001b[0m \u001b[1;32mNone\u001b[0m\u001b[1;33m)\u001b[0m\u001b[1;33m\u001b[0m\u001b[1;33m\u001b[0m\u001b[0m\n\u001b[0;32m    995\u001b[0m                     \u001b[1;32mif\u001b[0m \u001b[1;32mnot\u001b[0m \u001b[0mcallable\u001b[0m\u001b[1;33m(\u001b[0m\u001b[0mfunc\u001b[0m\u001b[1;33m)\u001b[0m\u001b[1;33m:\u001b[0m\u001b[1;33m\u001b[0m\u001b[1;33m\u001b[0m\u001b[0m\n\u001b[1;32m--> 996\u001b[1;33m                         raise AttributeError(f\"{type(self).__name__!r} object \"\n\u001b[0m\u001b[0;32m    997\u001b[0m                                              f\"has no property {k!r}\")\n\u001b[0;32m    998\u001b[0m                     \u001b[0mret\u001b[0m\u001b[1;33m.\u001b[0m\u001b[0mappend\u001b[0m\u001b[1;33m(\u001b[0m\u001b[0mfunc\u001b[0m\u001b[1;33m(\u001b[0m\u001b[0mv\u001b[0m\u001b[1;33m)\u001b[0m\u001b[1;33m)\u001b[0m\u001b[1;33m\u001b[0m\u001b[1;33m\u001b[0m\u001b[0m\n",
      "\u001b[1;31mAttributeError\u001b[0m: 'Rectangle' object has no property 'normed'"
     ]
    },
    {
     "data": {
      "image/png": "[encoded data removed]",
      "text/plain": [
       "<Figure size 1008x576 with 5 Axes>"
      ]
     },
     "metadata": {
      "needs_background": "light"
     },
     "output_type": "display_data"
    }
   ],
   "source": [
    "tsdisplay(log_passengers)"
   ]
  },
  {
   "cell_type": "code",
   "execution_count": null,
   "id": "ebce9fc4",
   "metadata": {},
   "outputs": [],
   "source": [
    "print(airpass.min())"
   ]
  },
  {
   "cell_type": "code",
   "execution_count": null,
   "id": "1f3f5443",
   "metadata": {},
   "outputs": [],
   "source": [
    "decomposition_1  = smt.seasonal.seasonal_decompose(log_passengers, model = \"additive\", freq = 12, two_sided = True)\n",
    "trend_1 = decomposition_1.trend"
   ]
  },
  {
   "cell_type": "code",
   "execution_count": null,
   "id": "df594a8e",
   "metadata": {},
   "outputs": [],
   "source": [
    "plt.figure(figsize = (15, 6))\n",
    "log_passengers.plot(label = \"log of Airpassangers\")\n",
    "trend_1.plot(label = \"Two-sided decomposition of the trend\")\n",
    "plt.legend()\n",
    "plt.show()"
   ]
  },
  {
   "cell_type": "code",
   "execution_count": null,
   "id": "095eb4bc",
   "metadata": {},
   "outputs": [],
   "source": [
    "decomposition_2  = smt.seasonal.seasonal_decompose(log_passengers, model = \"additive\", freq = 12, two_sided = False)\n",
    "trend_2 = decomposition_2.trend"
   ]
  },
  {
   "cell_type": "code",
   "execution_count": null,
   "id": "6cf7a3cf",
   "metadata": {},
   "outputs": [],
   "source": [
    "plt.figure(figsize = (15, 6))\n",
    "log_passengers.plot(label = \"log of Airpassangers\")\n",
    "trend_2.plot(label = \"One-sided decomposition of the trend\")\n",
    "plt.legend()\n",
    "plt.show()"
   ]
  },
  {
   "cell_type": "code",
   "execution_count": null,
   "id": "ff99ade1",
   "metadata": {},
   "outputs": [],
   "source": [
    "decomposition_3  = smt.seasonal.seasonal_decompose(log_passengers, model = \"additive\", freq = 3, two_sided = False)\n",
    "trend_3 = decomposition_3.trend\n",
    "\n",
    "plt.figure(figsize = (10, 6))\n",
    "log_passengers.plot(label = \"log of Airpassangers\")\n",
    "trend_3.plot(label = \"One-sided decomposition of the trend with d = 3\")\n",
    "trend_2.plot(label = \"One-sided decomposition of the trend woth period d = 12\")\n",
    "plt.legend()\n",
    "plt.show()"
   ]
  },
  {
   "cell_type": "code",
   "execution_count": null,
   "id": "97abd964",
   "metadata": {},
   "outputs": [],
   "source": [
    "decomposition_4  = smt.seasonal.seasonal_decompose(log_passengers, model = \"additive\", freq = 24, two_sided = False)\n",
    "trend_4 = decomposition_4.trend\n",
    "\n",
    "plt.figure(figsize = (10, 6))\n",
    "log_passengers.plot(label = \"log of Airpassangers\")\n",
    "trend_4.plot(label = \"One-sided decomposition of the trend with period d = 24\")\n",
    "trend_2.plot(label = \"One-sided decomposition of the trend woth period d = 12\")\n",
    "plt.legend()\n",
    "plt.show()"
   ]
  },
  {
   "cell_type": "code",
   "execution_count": null,
   "id": "3fba2467",
   "metadata": {},
   "outputs": [],
   "source": [
    "import math as math\n",
    "\n",
    "def moving_average_decompose(y, l = 12):\n",
    "    tmp_index = y.index\n",
    "    #Time Series:\n",
    "    y = np.array(y)\n",
    "    #Trend Component:\n",
    "    t_two_side = pd.np.zeros(y.size)\n",
    "    t_one_side = pd.np.zeros(y.size)\n",
    "    tmp_val = 0\n",
    "    #Loop through each time point:\n",
    "    for j in range(0, y.size):\n",
    "        ###########################################################\n",
    "        # The length is even - use centered averaging:\n",
    "        if l % 2 == 0:\n",
    "            # The centered averaging method weights - see the formula example with l = 12.\n",
    "            tmp_weights = np.concatenate([np.array([1 / (l * 2)]),\n",
    "                                          np.repeat(1 / l, l - 1),\n",
    "                                          np.array([1 / (l * 2)])])\n",
    "            #Two-sided\n",
    "            if j + 1 <= l / 2 or j + 1 > y.size - l / 2: \n",
    "                # We do not have enough data to the left or right of the series to calculate trend at time t = j:\n",
    "                t_two_side[j] = np.nan\n",
    "            else:\n",
    "                tmp_val = y[int(j - (l / 2)):int(j + (l / 2 + 1))] * tmp_weights\n",
    "                t_two_side[j] = tmp_val.sum()\n",
    "            #One-sided\n",
    "            if j + 1 <= l:\n",
    "                t_one_side[j] = np.nan\n",
    "            else:\n",
    "                tmp_val = y[int(j - l):int(j + 1)] * tmp_weights\n",
    "                t_one_side[j] = tmp_val.sum()\n",
    "        ###########################################################\n",
    "        # The length is odd:\n",
    "        else:\n",
    "            #For the non-centered averaging the weights are simply the mean, i.e. the length l.\n",
    "            #tmp_weights = np.repeat(1 / l, l)\n",
    "            #Two-sided\n",
    "            if j + 1 <= math.floor(l / 2) or j + 1 > y.size - math.floor(l / 2):\n",
    "                # We do not have enough data to the left or right of the series to calculate trend at time t = j:\n",
    "                t_two_side[j] = np.nan\n",
    "            else:\n",
    "                tmp_val = y[int(j - math.floor(l / 2)):int(j + (math.floor(l / 2) + 1))]\n",
    "                t_two_side[j] = tmp_val.mean()\n",
    "            \n",
    "            #One-sided\n",
    "            if j * 2 <= l:\n",
    "                t_one_side[j] = np.nan\n",
    "            else:\n",
    "                tmp_val = y[int(j - l + 1):int(j + 1)]\n",
    "                t_one_side[j] = tmp_val.mean()\n",
    "    #Return the same time series:\n",
    "    t_one_side = pd.Series(t_one_side, name = \"One-Sided MA with length = \" + str(l))\n",
    "    t_one_side.index = tmp_index\n",
    "    t_two_side = pd.Series(t_two_side, name = \"Two-Sided MA with length = \" + str(l))\n",
    "    t_two_side.index = tmp_index\n",
    "    \n",
    "    return {\"Two-sided\": t_two_side, \"One-sided\": t_one_side}"
   ]
  },
  {
   "cell_type": "code",
   "execution_count": null,
   "id": "1a46a244",
   "metadata": {},
   "outputs": [],
   "source": [
    "decomposition_custom_1 = moving_average_decompose(log_passengers)\n",
    "decomposition_custom_2 = moving_average_decompose(log_passengers, l = 3)\n",
    "decomposition_custom_3 = moving_average_decompose(log_passengers, l = 24)\n",
    "\n",
    "plt.figure(figsize = (20, 10))\n",
    "log_passengers.plot()\n",
    "decomposition_custom_1[\"One-sided\"].plot()\n",
    "decomposition_custom_1[\"Two-sided\"].plot()\n",
    "decomposition_custom_2[\"Two-sided\"].plot()\n",
    "decomposition_custom_3[\"One-sided\"].plot()\n",
    "plt.legend()\n",
    "plt.show()"
   ]
  },
  {
   "cell_type": "code",
   "execution_count": null,
   "id": "85db43ca",
   "metadata": {},
   "outputs": [],
   "source": [
    "comparison = decomposition_custom_1[\"Two-sided\"] - trend_1\n",
    "print(\"Two-Sided MA, l = 12: max. difference = \", round(comparison.max(), 5), \"; min. difference = \", round(comparison.min(), 5))\n",
    "comparison = decomposition_custom_1[\"One-sided\"] - trend_2\n",
    "print(\"One-Sided MA, l = 12: max. difference = \", round(comparison.max(), 5), \"; min. difference = \", round(comparison.min(), 5))\n",
    "comparison = decomposition_custom_2[\"One-sided\"] - trend_3\n",
    "print(\"One-Sided MA, l =  3: max. difference = \", round(comparison.max(), 5), \"; min. difference = \", round(comparison.min(), 5))\n",
    "comparison = decomposition_custom_3[\"One-sided\"] - trend_4\n",
    "print(\"One-Sided MA, l =  24: max. difference = \", round(comparison.max(), 5), \"; min. difference = \", round(comparison.min(), 5))"
   ]
  },
  {
   "cell_type": "code",
   "execution_count": null,
   "id": "19cb2254",
   "metadata": {},
   "outputs": [],
   "source": [
    "def decomp_seas(y, trend, period = 12, title = \"\"):\n",
    "    #Initial seasonal component estimation:\n",
    "    seas_0 = y - trend\n",
    "    seas_1 = pd.np.zeros(period)\n",
    "    #Seasonal component averaging:\n",
    "    for j in range(0, period):\n",
    "        #Select every j-th month from each year in the dataset:\n",
    "        seas_1[j] = seas_0[j::period].mean()\n",
    "    #Adjustment factor:\n",
    "    w = seas_1.mean()\n",
    "    seas_1 = seas_1 - w\n",
    "    #Save the seasonal component in a time series format:\n",
    "    seasonal_results = pd.np.zeros(y.size)\n",
    "    for j in range(0, period):\n",
    "        #Select every j-th month from each year in the dataset:\n",
    "        seasonal_results[j::period] = seas_1[j]\n",
    "    \n",
    "    seasonal_results = pd.Series(seasonal_results, name = \"Seasonal \" + title)\n",
    "    seasonal_results.index = trend.index\n",
    "    return(seasonal_results)"
   ]
  },
  {
   "cell_type": "code",
   "execution_count": null,
   "id": "90bc10a6",
   "metadata": {},
   "outputs": [],
   "source": [
    "seas_results = {\"One-sided\": decomp_seas(y = log_passengers, trend = decomposition_custom_1[\"One-sided\"], period = 12, title = \"(One-sided)\"),\n",
    "                \"Two-sided\": decomp_seas(y = log_passengers, trend = decomposition_custom_1[\"Two-sided\"], period = 12, title = \"(Two-sided)\")}"
   ]
  },
  {
   "cell_type": "code",
   "execution_count": null,
   "id": "81e5847f",
   "metadata": {},
   "outputs": [],
   "source": [
    "plt.figure(figsize = (15, 6))\n",
    "seas_results[\"One-sided\"].plot()\n",
    "seas_results[\"Two-sided\"].plot()\n",
    "plt.legend()\n",
    "plt.tight_layout()\n",
    "plt.show()"
   ]
  },
  {
   "cell_type": "code",
   "execution_count": null,
   "id": "9c9e0fe3",
   "metadata": {},
   "outputs": [],
   "source": [
    "T_S = {\"One-sided\": decomposition_custom_1[\"One-sided\"] + seas_results[\"One-sided\"], \"Two-sided\": decomposition_custom_1[\"Two-sided\"] + seas_results[\"Two-sided\"]}\n",
    "T_S[\"One-sided\"].name = \"Trend + Season\"\n",
    "T_S[\"Two-sided\"].name = \"Trend + Season\""
   ]
  },
  {
   "cell_type": "code",
   "execution_count": null,
   "id": "a66bd832",
   "metadata": {},
   "outputs": [],
   "source": [
    "fig = plt.figure(figsize = (15, 8))\n",
    "log_passengers.plot(ax = fig.add_subplot(211), label = \"Log of Airpassangers\", title = \"One-sided decomposition\")\n",
    "decomposition_custom_1[\"One-sided\"].plot()\n",
    "T_S[\"One-sided\"].plot()\n",
    "plt.legend()\n",
    "#\n",
    "log_passengers.plot(ax = fig.add_subplot(212), label = \"Log of Airpassangers\", title = \"Two-sided decomposition\")\n",
    "decomposition_custom_1[\"Two-sided\"].plot()\n",
    "T_S[\"Two-sided\"].plot()\n",
    "plt.legend()\n",
    "#\n",
    "plt.tight_layout()\n",
    "plt.show()"
   ]
  },
  {
   "cell_type": "code",
   "execution_count": null,
   "id": "d7000d9a",
   "metadata": {},
   "outputs": [],
   "source": [
    "comparison = seas_results[\"Two-sided\"] - decomposition_1.seasonal\n",
    "print(\"Two-Sided MA, l = 12: max. difference = \", round(comparison.max(), 5), \"; min. difference = \", round(comparison.min(), 5))\n",
    "comparison = seas_results[\"One-sided\"] - decomposition_2.seasonal\n",
    "print(\"One-Sided MA, l = 12: max. difference = \", round(comparison.max(), 5), \"; min. difference = \", round(comparison.min(), 5))"
   ]
  },
  {
   "cell_type": "code",
   "execution_count": null,
   "id": "65553790",
   "metadata": {},
   "outputs": [],
   "source": [
    "fig, ax = plt.subplots(4, 1, figsize=(15, 8))\n",
    "# Plot the series\n",
    "decomposition_1.observed.plot(ax = ax[0])\n",
    "decomposition_1.trend.plot(ax = ax[1])\n",
    "decomposition_1.seasonal.plot(ax = ax[2])\n",
    "decomposition_1.resid.plot(ax = ax[3])\n",
    "# Add the labels to the Y-axis\n",
    "ax[0].set_ylabel('Observed')\n",
    "ax[1].set_ylabel('Trend')\n",
    "ax[2].set_ylabel('Seasonal')\n",
    "ax[3].set_ylabel('Residual')\n",
    "# Fix layout\n",
    "plt.tight_layout()\n",
    "plt.show()"
   ]
  },
  {
   "cell_type": "code",
   "execution_count": null,
   "id": "0f4d5c60",
   "metadata": {},
   "outputs": [],
   "source": [
    "fig = plt.figure(figsize = (15, 6))\n",
    "#\n",
    "log_passengers.plot(ax = fig.add_subplot(211), label = \"Log of Airpassangers\", title = \"One-sided decomposition\")\n",
    "decomposition_2.trend.plot(label = \"Trend\")\n",
    "(decomposition_2.seasonal + decomposition_2.trend).plot(label = \"Trend + Season\")\n",
    "plt.legend()\n",
    "#\n",
    "log_passengers.plot(ax = fig.add_subplot(212), label = \"Log of Airpassangers\", title = \"Two-sided decomposition\")\n",
    "decomposition_1.trend.plot(label = \"Trend\")\n",
    "(decomposition_1.seasonal + decomposition_1.trend).plot(label = \"Trend + Season\")\n",
    "plt.legend()\n",
    "#\n",
    "plt.tight_layout()\n",
    "plt.show()"
   ]
  },
  {
   "cell_type": "code",
   "execution_count": null,
   "id": "3b1b87b6",
   "metadata": {},
   "outputs": [],
   "source": [
    "fig = plt.figure(figsize = (15, 4))\n",
    "(log_passengers - T_S[\"One-sided\"]).plot(ax = fig.add_subplot(121), title = \"One-sided decomposition Residuals\")\n",
    "(log_passengers - T_S[\"Two-sided\"]).plot(ax = fig.add_subplot(122), title = \"Two-sided decomposition Residuals\")\n",
    "plt.tight_layout()\n",
    "plt.show()"
   ]
  },
  {
   "cell_type": "code",
   "execution_count": null,
   "id": "b5a6854d",
   "metadata": {},
   "outputs": [],
   "source": [
    "fig = plt.figure(figsize = (15, 4))\n",
    "decomposition_2.resid.plot(ax = fig.add_subplot(121), title = \"One-sided decomposition Residuals\")\n",
    "decomposition_1.resid.plot(ax = fig.add_subplot(122), title = \"Two-sided decomposition Residuals\")\n",
    "plt.tight_layout()\n",
    "plt.show()"
   ]
  },
  {
   "cell_type": "code",
   "execution_count": null,
   "id": "a1d0708a",
   "metadata": {},
   "outputs": [],
   "source": [
    "print(\"Two-sided decomp. Variance for [1949-01-01 - 1954-01-01]: \", round(decomposition_1.resid.loc['19490101':'19540101'].var(), 6))\n",
    "print(\"Two-sided decomp. Variance for [1954-02-01 - 1960-12-01]: \", round(decomposition_1.resid.loc['19540201':'19600101'].var(), 6))\n",
    "print(\"-----------------------------------------------------------\")\n",
    "print(\"One-sided decomp. Variance for [1949-01-01 - 1954-01-01]: \", round(decomposition_2.resid.loc['19490101':'19540101'].var(), 6))\n",
    "print(\"One-sided decomp. Variance for [1954-02-01 - 1960-12-01]: \", round(decomposition_2.resid.loc['19540201':'19600101'].var(), 6))"
   ]
  },
  {
   "cell_type": "code",
   "execution_count": null,
   "id": "b44d41a1",
   "metadata": {},
   "outputs": [],
   "source": [
    "fig = plt.figure(figsize = (14, 8))\n",
    "fig = sm.graphics.tsa.plot_acf(decomposition_1.resid.dropna(), zero = False, lags=40, ax = fig.add_subplot(221), title = \"ACF of Two-sided decomposition Residuals\")\n",
    "fig = sm.graphics.tsa.plot_acf(decomposition_2.resid.dropna(), zero = False, lags=40, ax = fig.add_subplot(222), title = \"ACF of One-sided decomposition Residuals\")\n",
    "#\n",
    "fig = sm.graphics.tsa.plot_acf(decomposition_1.resid.dropna(), zero = False, lags=40, ax = fig.add_subplot(223), title = \"PACF of Two-sided decomposition Residuals\")\n",
    "fig = sm.graphics.tsa.plot_acf(decomposition_2.resid.dropna(), zero = False, lags=40, ax = fig.add_subplot(224), title = \"PACF of One-sided decomposition Residuals\")\n",
    "#\n",
    "plt.tight_layout()\n",
    "plt.show()"
   ]
  },
  {
   "cell_type": "code",
   "execution_count": null,
   "id": "b87a1e6d",
   "metadata": {},
   "outputs": [],
   "source": [
    "tsdisplay(airpass)"
   ]
  },
  {
   "cell_type": "code",
   "execution_count": null,
   "id": "bae39e17",
   "metadata": {},
   "outputs": [],
   "source": [
    "AP = airpass"
   ]
  },
  {
   "cell_type": "code",
   "execution_count": null,
   "id": "fbc7eb5d",
   "metadata": {},
   "outputs": [],
   "source": [
    "#Create trend\n",
    "time = np.array(range(1, len(airpass.index) + 1))\n",
    "time_sq = time ** 2"
   ]
  },
  {
   "cell_type": "code",
   "execution_count": null,
   "id": "e882cb2b",
   "metadata": {},
   "outputs": [],
   "source": [
    "#Create a dummy variable matrix of zeroes:\n",
    "dm = np.column_stack(np.zeros((11, airpass.size)))\n",
    "#Create a DataFrame\n",
    "dm = pd.DataFrame(dm)\n",
    "#Add values to dummy variables:\n",
    "for j in range(0, len(dm.columns)):\n",
    "    #Select every j-th month from each year in the dataset:\n",
    "    dm.iloc[j::12, j] = 1"
   ]
  },
  {
   "cell_type": "code",
   "execution_count": null,
   "id": "8571f9a8",
   "metadata": {},
   "outputs": [],
   "source": [
    "dm.head()"
   ]
  },
  {
   "cell_type": "code",
   "execution_count": null,
   "id": "644db71f",
   "metadata": {},
   "outputs": [],
   "source": [
    "dtf = np.column_stack((airpass, time, time_sq, dm))\n",
    "#Create a DataFrame\n",
    "dtf = pd.DataFrame(dtf)\n",
    "#Rename the columns:\n",
    "dtf.columns = [\"AP\"] + [\"time\"] + [\"time_sq\"] + [\"dm_\" + str(number) for number in range(1, 12)]\n",
    "dtf.index = [str(number) for number in range(1, len(dtf.index) + 1)]\n",
    "dtf.head(13)"
   ]
  },
  {
   "cell_type": "code",
   "execution_count": null,
   "id": "c699c13f",
   "metadata": {},
   "outputs": [],
   "source": [
    "formula_2 = \"AP ~ \" + \" + \".join(dtf.columns.intersection(dtf.columns.difference([\"AP\"])))\n",
    "print(formula_2)"
   ]
  },
  {
   "cell_type": "code",
   "execution_count": null,
   "id": "b54b2ece",
   "metadata": {},
   "outputs": [],
   "source": [
    "formula_3 = \"np.log(AP) ~ \" + \" + \".join(dtf.columns.intersection(dtf.columns.difference([\"AP\"])))\n",
    "print(formula_3)"
   ]
  },
  {
   "cell_type": "code",
   "execution_count": null,
   "id": "adeb6df5",
   "metadata": {},
   "outputs": [],
   "source": [
    "AP_OLS_1 = smf.ols(formula = 'AP ~ time + time_sq', data = dtf)\n",
    "print(AP_OLS_1.fit().summary().tables[1])"
   ]
  },
  {
   "cell_type": "code",
   "execution_count": null,
   "id": "a7cd4533",
   "metadata": {},
   "outputs": [],
   "source": [
    "AP_OLS_2 = smf.ols(formula = formula_2, data = dtf)\n",
    "print(AP_OLS_2.fit().summary().tables[1])"
   ]
  },
  {
   "cell_type": "code",
   "execution_count": null,
   "id": "7d424654",
   "metadata": {},
   "outputs": [],
   "source": [
    "AP_OLS_3 = smf.ols(formula = formula_3, data = dtf)\n",
    "print(AP_OLS_3.fit().summary().tables[1])"
   ]
  },
  {
   "cell_type": "code",
   "execution_count": null,
   "id": "d7fea73b",
   "metadata": {},
   "outputs": [],
   "source": [
    "fit_1 = AP_OLS_1.fit()\n",
    "fit_2 = AP_OLS_2.fit()\n",
    "fit_3 = AP_OLS_3.fit()"
   ]
  },
  {
   "cell_type": "code",
   "execution_count": null,
   "id": "88e94e08",
   "metadata": {},
   "outputs": [],
   "source": [
    "dtf_forc = dtf.iloc[0:36, 1:]\n",
    "dtf_forc.index = [str(number) for number in range(len(dtf.index) + 1, len(dtf.index) + len(dtf_forc) + 1)]"
   ]
  },
  {
   "cell_type": "code",
   "execution_count": null,
   "id": "f6035b9e",
   "metadata": {},
   "outputs": [],
   "source": [
    "dtf.tail()"
   ]
  },
  {
   "cell_type": "code",
   "execution_count": null,
   "id": "cfdd91ea",
   "metadata": {},
   "outputs": [],
   "source": [
    "dtf_forc.head()"
   ]
  },
  {
   "cell_type": "code",
   "execution_count": null,
   "id": "8cc539cd",
   "metadata": {},
   "outputs": [],
   "source": [
    "dtf_forc[\"time\"] = np.array(range(int(dtf_forc.index[0]), int(dtf_forc.index[-1]) + 1))\n",
    "dtf_forc[\"time_sq\"] = dtf_forc[\"time\"] ** 2\n",
    "dtf_forc.head()"
   ]
  },
  {
   "cell_type": "code",
   "execution_count": null,
   "id": "fbe96578",
   "metadata": {},
   "outputs": [],
   "source": [
    "dtf_forc.loc[:, [\"dm_1\"]].head(15).T"
   ]
  },
  {
   "cell_type": "code",
   "execution_count": null,
   "id": "649d881e",
   "metadata": {},
   "outputs": [],
   "source": [
    "dtf_forc.loc[:, [\"dm_1\"]] = 0\n",
    "dtf_forc.loc[:, [\"dm_1\"]].head(15).T"
   ]
  },
  {
   "cell_type": "code",
   "execution_count": null,
   "id": "836b861a",
   "metadata": {},
   "outputs": [],
   "source": [
    "dtf_forc.columns.get_loc(\"dm_1\")"
   ]
  },
  {
   "cell_type": "code",
   "execution_count": null,
   "id": "58b85a3c",
   "metadata": {},
   "outputs": [],
   "source": [
    "dtf_forc.iloc[0::12, dtf_forc.columns.get_loc(\"dm_1\")] = 1\n",
    "dtf_forc.loc[:, [\"dm_1\"]].head(15).T"
   ]
  },
  {
   "cell_type": "code",
   "execution_count": null,
   "id": "bc2d70fe",
   "metadata": {},
   "outputs": [],
   "source": [
    "for j, k in zip(range(0, 12), [\"dm_\" + str(number) for number in range(2, 12)]):\n",
    "    print(\"First index of \" + k + \" is \" + str(j))"
   ]
  },
  {
   "cell_type": "code",
   "execution_count": null,
   "id": "8f5911f5",
   "metadata": {},
   "outputs": [],
   "source": [
    "dtf_forc.iloc[0::4, :]"
   ]
  },
  {
   "cell_type": "code",
   "execution_count": null,
   "id": "b9d29458",
   "metadata": {},
   "outputs": [],
   "source": [
    "dtf_forc.iloc[11, :]"
   ]
  },
  {
   "cell_type": "code",
   "execution_count": null,
   "id": "ec4a01b3",
   "metadata": {},
   "outputs": [],
   "source": [
    "dtf_forc.iloc[11 + 12, :]"
   ]
  },
  {
   "cell_type": "code",
   "execution_count": null,
   "id": "7b83334f",
   "metadata": {},
   "outputs": [],
   "source": [
    "for j, k in zip(range(0, 6), [\"dm_\" + str(number) for number in range(6, 12)]):\n",
    "    print(\"First index of \" + k + \" is \" + str(j))"
   ]
  },
  {
   "cell_type": "code",
   "execution_count": null,
   "id": "67fb8eb2",
   "metadata": {},
   "outputs": [],
   "source": [
    "for j, k in zip(range(7, 12), [\"dm_\" + str(number) for number in range(1, 6)]):\n",
    "    print(\"First index of \" + k + \" is \" + str(j))"
   ]
  },
  {
   "cell_type": "code",
   "execution_count": null,
   "id": "8449951f",
   "metadata": {},
   "outputs": [],
   "source": [
    "for j, k in zip(range(0, 12), [\"dm_\" + str(number) for number in range(1, 12)]):\n",
    "    print(\"First index of \" + k + \" is \" + str(j))\n",
    "    dtf_forc.iloc[j::12, dtf_forc.columns.get_loc(k)] = 0\n",
    "    dtf_forc.iloc[j::12, dtf_forc.columns.get_loc(k)] = 1"
   ]
  },
  {
   "cell_type": "code",
   "execution_count": null,
   "id": "30d05c51",
   "metadata": {},
   "outputs": [],
   "source": [
    "dtf_forc.head(24)"
   ]
  },
  {
   "cell_type": "code",
   "execution_count": null,
   "id": "fe48788b",
   "metadata": {},
   "outputs": [],
   "source": [
    "#Calculate forecasts\n",
    "AP_forc_1 =  fit_1.predict(dtf_forc)\n",
    "AP_forc_2 =  fit_2.predict(dtf_forc)\n",
    "AP_forc_3 =  fit_3.predict(dtf_forc)"
   ]
  },
  {
   "cell_type": "code",
   "execution_count": null,
   "id": "2c3016fa",
   "metadata": {},
   "outputs": [],
   "source": [
    "#Combine into a single time series with FITTED and FORECAST values:\n",
    "AP_fited_1 = np.concatenate((fit_1.predict(), np.array(AP_forc_1)))\n",
    "AP_fited_1 = pd.Series(AP_fited_1)"
   ]
  },
  {
   "cell_type": "code",
   "execution_count": null,
   "id": "a45546bc",
   "metadata": {},
   "outputs": [],
   "source": [
    "AP_fited_1.index"
   ]
  },
  {
   "cell_type": "code",
   "execution_count": null,
   "id": "a131e0b3",
   "metadata": {},
   "outputs": [],
   "source": [
    "#Add the correct time index:\n",
    "AP_fited_1.index = pd.date_range(start = \"1949-01\", periods = len(AP_fited_1.index), freq = \"M\").to_period()\n",
    "AP_fited_1.index = AP_fited_1.index.to_timestamp()\n",
    "AP_fited_1.name = \"Fitted\""
   ]
  },
  {
   "cell_type": "code",
   "execution_count": null,
   "id": "8fd46f46",
   "metadata": {},
   "outputs": [],
   "source": [
    "AP_fited_1.index"
   ]
  },
  {
   "cell_type": "code",
   "execution_count": null,
   "id": "da6a1812",
   "metadata": {},
   "outputs": [],
   "source": [
    "AP_fited_2 = np.concatenate((fit_2.predict(), np.array(AP_forc_2)))\n",
    "AP_fited_2 = pd.Series(AP_fited_2)\n",
    "AP_fited_2.index = AP_fited_1.index\n",
    "AP_fited_2.name = AP_fited_1.name"
   ]
  },
  {
   "cell_type": "code",
   "execution_count": null,
   "id": "3f01a384",
   "metadata": {},
   "outputs": [],
   "source": [
    "AP_fited_3 = np.concatenate((fit_3.predict(), np.array(AP_forc_3)))\n",
    "AP_fited_3 = pd.Series(AP_fited_3)\n",
    "AP_fited_3.index = AP_fited_1.index\n",
    "AP_fited_3.name = AP_fited_1.name"
   ]
  },
  {
   "cell_type": "code",
   "execution_count": null,
   "id": "f391ccb0",
   "metadata": {},
   "outputs": [],
   "source": [
    "fig = plt.figure(figsize = (20, 6))\n",
    "AP_fited_1.plot(ax = fig.add_subplot(131), linestyle = \"--\", title = \"Quadratic\")\n",
    "airpass.plot(label = \"Actual\")\n",
    "plt.legend()\n",
    "#\n",
    "AP_fited_2.plot(ax = fig.add_subplot(132), linestyle = \"--\", title = \"Quadratic + Seasonal for Airpass\")\n",
    "airpass.plot(label = \"Actual\")\n",
    "plt.legend()\n",
    "#\n",
    "AP_fited_3.plot(ax = fig.add_subplot(133), linestyle = \"--\", title = \"Quadratic + Seasonal for log(Airpass)\")\n",
    "log_passengers.plot(label = \"Actual\")\n",
    "plt.legend()\n",
    "#\n",
    "plt.tight_layout()\n",
    "plt.show()"
   ]
  },
  {
   "cell_type": "code",
   "execution_count": null,
   "id": "a969859b",
   "metadata": {},
   "outputs": [],
   "source": [
    "def exp_smooth_simple(pars, y_t, return_type = \"simple\", forc_period = 12):\n",
    "    a = pars[0]\n",
    "    T = len(y_t)\n",
    "    #print(T)\n",
    "    new_y = np.zeros(T)\n",
    "    for i in range(0, T): #note - the first element (when i = 0 is unchanged\n",
    "        if i == 0:\n",
    "            new_y[i] = y_t[i]\n",
    "        else:\n",
    "            new_y[i] = a * y_t[i] + (1.0 - a) * new_y[i-1]  \n",
    "    \n",
    "    #Forecast ahead:\n",
    "    y_forc = np.zeros(forc_period)\n",
    "    for j in range(0, forc_period):\n",
    "        y_forc[j] = new_y[T - 1]\n",
    "        \n",
    "    if return_type == \"simple\":\n",
    "        return new_y\n",
    "    else:\n",
    "        return {\"Y\": new_y, \"Forecast\": y_forc}"
   ]
  },
  {
   "cell_type": "code",
   "execution_count": null,
   "id": "c0897d71",
   "metadata": {},
   "outputs": [],
   "source": [
    "smoothed_data_1 = exp_smooth_simple([0.1], np.array(pd.Series.tolist(log_passengers)), return_type = \"forcast\")\n",
    "smoothed_data_2 = exp_smooth_simple([0.5], np.array(pd.Series.tolist(log_passengers)), return_type = \"forcast\")\n",
    "smoothed_data_3 = exp_smooth_simple([0.8], np.array(pd.Series.tolist(log_passengers)), return_type = \"forcast\")"
   ]
  },
  {
   "cell_type": "code",
   "execution_count": null,
   "id": "151491cb",
   "metadata": {},
   "outputs": [],
   "source": [
    "smoothed_data_1 = pd.Series(np.append(smoothed_data_1[\"Y\"], smoothed_data_1[\"Forecast\"]))\n",
    "smoothed_data_2 = pd.Series(np.append(smoothed_data_2[\"Y\"], smoothed_data_2[\"Forecast\"]))\n",
    "smoothed_data_3 = pd.Series(np.append(smoothed_data_3[\"Y\"], smoothed_data_3[\"Forecast\"]))"
   ]
  },
  {
   "cell_type": "code",
   "execution_count": null,
   "id": "ee1927c4",
   "metadata": {},
   "outputs": [],
   "source": [
    "smoothed_data_1.name = \"alpha = 0.1\"\n",
    "smoothed_data_2.name = \"alpha = 0.5\"\n",
    "smoothed_data_3.name = \"alpha = 0.8\""
   ]
  },
  {
   "cell_type": "code",
   "execution_count": null,
   "id": "fbc8ec40",
   "metadata": {},
   "outputs": [],
   "source": [
    "smoothed_data_1.index = pd.date_range(start = \"1949-01\", periods = len(smoothed_data_1.index), freq = \"M\").to_period()\n",
    "smoothed_data_1.index = smoothed_data_1.index.to_timestamp()\n",
    "#\n",
    "smoothed_data_2.index = smoothed_data_3.index = smoothed_data_1.index"
   ]
  },
  {
   "cell_type": "code",
   "execution_count": null,
   "id": "b6da1d06",
   "metadata": {},
   "outputs": [],
   "source": [
    "plt.figure(figsize = (20, 8))\n",
    "plt.plot(log_passengers, label = \"Actual\")\n",
    "plt.plot(smoothed_data_1, linestyle = \"--\")\n",
    "plt.plot(smoothed_data_2, linestyle = \"--\")\n",
    "plt.plot(smoothed_data_3, linestyle = \"--\", color = \"red\")\n",
    "plt.legend()\n",
    "plt.show()"
   ]
  },
  {
   "cell_type": "code",
   "execution_count": null,
   "id": "ff2ff017",
   "metadata": {},
   "outputs": [],
   "source": [
    "airpass_smpl_exp = smt.holtwinters.SimpleExpSmoothing(log_passengers)"
   ]
  },
  {
   "cell_type": "code",
   "execution_count": null,
   "id": "37a60b99",
   "metadata": {},
   "outputs": [],
   "source": [
    "airpass_smpl_exp_1 = airpass_smpl_exp.fit(smoothing_level = 0.1)\n",
    "airpass_smpl_exp_2 = airpass_smpl_exp.fit(smoothing_level = 0.5)\n",
    "airpass_smpl_exp_3 = airpass_smpl_exp.fit(smoothing_level = 0.8)"
   ]
  },
  {
   "cell_type": "code",
   "execution_count": null,
   "id": "e5088639",
   "metadata": {},
   "outputs": [],
   "source": [
    "# Suppress FutureWarning\n",
    "import warnings\n",
    "warnings.simplefilter(action='ignore', category=FutureWarning)"
   ]
  },
  {
   "cell_type": "code",
   "execution_count": null,
   "id": "5b2a82f7",
   "metadata": {},
   "outputs": [],
   "source": [
    "plt.figure(figsize = (20, 8))\n",
    "plt.plot(log_passengers, label = \"Actual\")\n",
    "airpass_smpl_exp_1.fittedvalues.plot(label = \"alpha = 0.1\", linestyle = \"--\")\n",
    "airpass_smpl_exp_2.fittedvalues.plot(label = \"alpha = 0.5\", linestyle = \"--\")\n",
    "airpass_smpl_exp_3.fittedvalues.plot(label = \"alpha = 0.8\", linestyle = \"--\")\n",
    "airpass_smpl_exp_1.forecast(steps = 12).plot(label = \"Forecast: alpha = 0.1\")\n",
    "airpass_smpl_exp_2.forecast(steps = 12).plot(label = \"Forecast: alpha = 0.5\")\n",
    "airpass_smpl_exp_3.forecast(steps = 12).plot(label = \"Forecast: alpha = 0.8\")\n",
    "plt.legend()\n",
    "plt.show()"
   ]
  },
  {
   "cell_type": "code",
   "execution_count": null,
   "id": "b5eb4086",
   "metadata": {},
   "outputs": [],
   "source": [
    "def exp_smooth_double(pars, y_t, return_type = \"simple\", forc_period = 12):\n",
    "    a = pars[0]\n",
    "    b = pars[1]\n",
    "    T = len(y_t)\n",
    "    new_y = np.zeros(T)\n",
    "    new_f = np.zeros(T)\n",
    "    \n",
    "    for i in range(0, T):\n",
    "        if i == 0:\n",
    "            new_y[i] = y_t[i]\n",
    "            new_f[i] = y_t[i]\n",
    "        elif i == 1:\n",
    "            new_y[i] = y_t[i]\n",
    "            new_f[i] = y_t[i] - y_t[i-1]\n",
    "        else:\n",
    "            new_y[i] = a * y_t[i] + (1.0 - a) * (new_y[i-1] + new_f[i-1])\n",
    "            new_f[i] = b * (new_y[i] - new_y[i-1]) + (1.0 -  b) * new_f[i-1]\n",
    "\n",
    "    #Forecast ahead:\n",
    "    y_forc = np.zeros(forc_period)\n",
    "    for j in range(0, forc_period):\n",
    "        y_forc[j] = new_y[T - 1] + (j + 1) * new_f[T - 1]\n",
    "    \n",
    "    if return_type == \"simple\":\n",
    "        return new_y\n",
    "    else:\n",
    "        return {\"Y\": new_y, \"F\": new_f, \"Forecast\": y_forc}"
   ]
  },
  {
   "cell_type": "code",
   "execution_count": null,
   "id": "5b956e2c",
   "metadata": {},
   "outputs": [],
   "source": [
    "#Example of double exponential smoothing with different alpha parameters:\n",
    "smoothed_data_1 = pd.Series(exp_smooth_double([0.1, 0.1], np.array(pd.Series.tolist(log_passengers)), return_type = \"forcast\"))\n",
    "smoothed_data_2 = pd.Series(exp_smooth_double([0.3, 0.1], np.array(pd.Series.tolist(log_passengers)), return_type = \"forcast\"))\n",
    "smoothed_data_3 = pd.Series(exp_smooth_double([0.6, 0.1], np.array(pd.Series.tolist(log_passengers)), return_type = \"forcast\"))"
   ]
  },
  {
   "cell_type": "code",
   "execution_count": null,
   "id": "b986c6ba",
   "metadata": {},
   "outputs": [],
   "source": [
    "smoothed_data_1 = pd.Series(np.append(smoothed_data_1[\"Y\"], smoothed_data_1[\"Forecast\"]))\n",
    "smoothed_data_2 = pd.Series(np.append(smoothed_data_2[\"Y\"], smoothed_data_2[\"Forecast\"]))\n",
    "smoothed_data_3 = pd.Series(np.append(smoothed_data_3[\"Y\"], smoothed_data_3[\"Forecast\"]))"
   ]
  },
  {
   "cell_type": "code",
   "execution_count": null,
   "id": "d3190a86",
   "metadata": {},
   "outputs": [],
   "source": [
    "smoothed_data_1.name = \"alpha = 0.1, beta = 0.1\"\n",
    "smoothed_data_2.name = \"alpha = 0.3, beta = 0.1\"\n",
    "smoothed_data_3.name = \"alpha = 0.6, beta = 0.1\""
   ]
  },
  {
   "cell_type": "code",
   "execution_count": null,
   "id": "84800e84",
   "metadata": {},
   "outputs": [],
   "source": [
    "smoothed_data_1.index = pd.date_range(start = \"1949-01\", periods = len(smoothed_data_1.index), freq = \"M\").to_period()\n",
    "smoothed_data_1.index = smoothed_data_1.index.to_timestamp()\n",
    "smoothed_data_2.index = smoothed_data_3.index = smoothed_data_1.index"
   ]
  },
  {
   "cell_type": "code",
   "execution_count": null,
   "id": "9e0faef4",
   "metadata": {},
   "outputs": [],
   "source": [
    "fig = plt.figure(figsize = (20, 10))\n",
    "plt.plot(log_passengers)\n",
    "plt.plot(smoothed_data_1, linestyle = \"--\")\n",
    "plt.plot(smoothed_data_2, linestyle = \"--\")\n",
    "plt.plot(smoothed_data_3, linestyle = \"--\", color = \"red\")\n",
    "plt.legend()\n",
    "plt.show()"
   ]
  },
  {
   "cell_type": "code",
   "execution_count": null,
   "id": "b1962c27",
   "metadata": {},
   "outputs": [],
   "source": [
    "#Example of double exponential smoothing with different beta parameters:\n",
    "smoothed_data_1 = pd.Series(exp_smooth_double([0.1, 0.01], np.array(pd.Series.tolist(log_passengers)), return_type = \"forcast\"))\n",
    "smoothed_data_2 = pd.Series(exp_smooth_double([0.1, 0.3], np.array(pd.Series.tolist(log_passengers)), return_type = \"forcast\"))\n",
    "smoothed_data_3 = pd.Series(exp_smooth_double([0.1, 0.9], np.array(pd.Series.tolist(log_passengers)), return_type = \"forcast\"))"
   ]
  },
  {
   "cell_type": "code",
   "execution_count": null,
   "id": "0e82d2ae",
   "metadata": {},
   "outputs": [],
   "source": [
    "smoothed_data_1 = pd.Series(np.append(smoothed_data_1[\"Y\"], smoothed_data_1[\"Forecast\"]))\n",
    "smoothed_data_2 = pd.Series(np.append(smoothed_data_2[\"Y\"], smoothed_data_2[\"Forecast\"]))\n",
    "smoothed_data_3 = pd.Series(np.append(smoothed_data_3[\"Y\"], smoothed_data_3[\"Forecast\"]))"
   ]
  },
  {
   "cell_type": "code",
   "execution_count": null,
   "id": "d4f10a0e",
   "metadata": {},
   "outputs": [],
   "source": [
    "smoothed_data_1.name = \"alpha = 0.1, beta = 0.01\"\n",
    "smoothed_data_2.name = \"alpha = 0.1, beta = 0.3\"\n",
    "smoothed_data_3.name = \"alpha = 0.1, beta = 0.9\""
   ]
  },
  {
   "cell_type": "code",
   "execution_count": null,
   "id": "00efc14d",
   "metadata": {},
   "outputs": [],
   "source": [
    "smoothed_data_1.index = pd.date_range(start = \"1949-01\", periods = len(smoothed_data_1.index), freq = \"M\").to_period()\n",
    "smoothed_data_1.index = smoothed_data_1.index.to_timestamp()\n",
    "smoothed_data_2.index = smoothed_data_3.index = smoothed_data_1.index"
   ]
  },
  {
   "cell_type": "code",
   "execution_count": null,
   "id": "97fa8f4d",
   "metadata": {},
   "outputs": [],
   "source": [
    "fig = plt.figure(figsize = (20, 10))\n",
    "plt.plot(log_passengers)\n",
    "plt.plot(smoothed_data_1, linestyle = \"--\")\n",
    "plt.plot(smoothed_data_2, linestyle = \"--\")\n",
    "plt.plot(smoothed_data_3, linestyle = \"--\", color = \"red\")\n",
    "plt.legend()\n",
    "plt.show()"
   ]
  },
  {
   "cell_type": "code",
   "execution_count": null,
   "id": "48f8a1cb",
   "metadata": {},
   "outputs": [],
   "source": [
    "airpass_smpl_exp_x2 = smt.holtwinters.Holt(log_passengers)"
   ]
  },
  {
   "cell_type": "code",
   "execution_count": null,
   "id": "b258eb7e",
   "metadata": {},
   "outputs": [],
   "source": [
    "airpass_smpl_exp_x2_11 = airpass_smpl_exp_x2.fit(smoothing_level = 0.1, smoothing_slope = 0.1)\n",
    "airpass_smpl_exp_x2_12 = airpass_smpl_exp_x2.fit(smoothing_level = 0.3, smoothing_slope = 0.1)\n",
    "airpass_smpl_exp_x2_13 = airpass_smpl_exp_x2.fit(smoothing_level = 0.6, smoothing_slope = 0.1)\n",
    "airpass_smpl_exp_x2_21 = airpass_smpl_exp_x2.fit(smoothing_level = 0.1, smoothing_slope = 0.01)\n",
    "airpass_smpl_exp_x2_22 = airpass_smpl_exp_x2.fit(smoothing_level = 0.1, smoothing_slope = 0.3)\n",
    "airpass_smpl_exp_x2_23 = airpass_smpl_exp_x2.fit(smoothing_level = 0.1, smoothing_slope = 0.9)"
   ]
  },
  {
   "cell_type": "code",
   "execution_count": null,
   "id": "71c32eed",
   "metadata": {},
   "outputs": [],
   "source": [
    "fig = plt.figure(figsize = (20, 8))\n",
    "fig.add_subplot(121)\n",
    "plt.plot(log_passengers, label = \"Actual\")\n",
    "airpass_smpl_exp_x2_11.fittedvalues.plot(label = \"alpha = 0.1, beta = 0.1\", linestyle = \"--\")\n",
    "airpass_smpl_exp_x2_12.fittedvalues.plot(label = \"alpha = 0.3, beta = 0.1\", linestyle = \"--\")\n",
    "airpass_smpl_exp_x2_13.fittedvalues.plot(label = \"alpha = 0.6, beta = 0.1\", linestyle = \"--\")\n",
    "airpass_smpl_exp_x2_11.forecast(steps = 12).plot(label = \"Forecast: alpha = 0.1, beta = 0.1\")\n",
    "airpass_smpl_exp_x2_12.forecast(steps = 12).plot(label = \"Forecast: alpha = 0.3, beta = 0.1\")\n",
    "airpass_smpl_exp_x2_13.forecast(steps = 12).plot(label = \"Forecast: alpha = 0.6, beta = 0.1\")\n",
    "plt.legend()\n",
    "#\n",
    "fig.add_subplot(122)\n",
    "plt.plot(log_passengers, label = \"Actual\")\n",
    "airpass_smpl_exp_x2_21.fittedvalues.plot(label = \"alpha = 0.1, beta = 0.01\", linestyle = \"--\")\n",
    "airpass_smpl_exp_x2_22.fittedvalues.plot(label = \"alpha = 0.1, beta = 0.3\", linestyle = \"--\")\n",
    "airpass_smpl_exp_x2_23.fittedvalues.plot(label = \"alpha = 0.1, beta = 0.9\", linestyle = \"--\")\n",
    "airpass_smpl_exp_x2_21.forecast(steps = 12).plot(label = \"Forecast: alpha = 0.1, beta = 0.01\")\n",
    "airpass_smpl_exp_x2_22.forecast(steps = 12).plot(label = \"Forecast: alpha = 0.1, beta = 0.3\")\n",
    "airpass_smpl_exp_x2_23.forecast(steps = 12).plot(label = \"Forecast: alpha = 0.1, beta = 0.9\")\n",
    "plt.legend()\n",
    "plt.show()"
   ]
  },
  {
   "cell_type": "code",
   "execution_count": null,
   "id": "73b7cc9c",
   "metadata": {},
   "outputs": [],
   "source": [
    "airpass_smpl_exp_hw = smt.holtwinters.ExponentialSmoothing(log_passengers)\n",
    "airpass_smpl_exp_hw_1 = airpass_smpl_exp_hw.fit()"
   ]
  },
  {
   "cell_type": "code",
   "execution_count": null,
   "id": "962e2a9f",
   "metadata": {},
   "outputs": [],
   "source": [
    "airpass_smpl_exp_hw2 = smt.holtwinters.ExponentialSmoothing(log_passengers, seasonal = \"additive\", seasonal_periods = 12)\n",
    "airpass_smpl_exp_hw_2 = airpass_smpl_exp_hw2.fit()"
   ]
  },
  {
   "cell_type": "code",
   "execution_count": null,
   "id": "f6a6a8ee",
   "metadata": {},
   "outputs": [],
   "source": [
    "airpass_smpl_exp_hw3 = smt.holtwinters.ExponentialSmoothing(log_passengers, seasonal = \"multiplicative\", seasonal_periods = 12)\n",
    "airpass_smpl_exp_hw_3 = airpass_smpl_exp_hw3.fit()"
   ]
  },
  {
   "cell_type": "code",
   "execution_count": null,
   "id": "66e77891",
   "metadata": {},
   "outputs": [],
   "source": [
    "fig = plt.figure(figsize = (20, 8))\n",
    "fig.add_subplot(111)\n",
    "plt.plot(log_passengers, label = \"Actual\")\n",
    "airpass_smpl_exp_hw_1.fittedvalues.plot(label = \"Holt-Winter's Exponential Smoothing: No season specification\", linestyle = \"--\")\n",
    "airpass_smpl_exp_hw_2.fittedvalues.plot(label = \"Holt-Winter's Exponential Smoothing: with additive season specification\", linestyle = \"--\")\n",
    "airpass_smpl_exp_hw_3.fittedvalues.plot(label = \"Holt-Winter's Exponential Smoothing: with multiplicative season specification\", linestyle = \"--\")\n",
    "airpass_smpl_exp_hw_1.forecast(steps = 12).plot(label = \"HW: no season spec\")\n",
    "airpass_smpl_exp_hw_2.forecast(steps = 12).plot(label = \"HW: with additive season spec\", marker = \"x\")\n",
    "airpass_smpl_exp_hw_3.forecast(steps = 12).plot(label = \"HW: with multiplicative season spec\", marker = \"x\")\n",
    "plt.legend()\n",
    "plt.show()"
   ]
  },
  {
   "cell_type": "code",
   "execution_count": null,
   "id": "6f680aac",
   "metadata": {},
   "outputs": [],
   "source": [
    "resid_OLS = fit_3.resid\n",
    "tsdisplay(resid_OLS, lags = 30)"
   ]
  },
  {
   "cell_type": "code",
   "execution_count": null,
   "id": "5e24bde3",
   "metadata": {},
   "outputs": [],
   "source": [
    "resid_exp_x2 = log_passengers - airpass_smpl_exp_x2_13.fittedvalues\n",
    "tsdisplay(resid_exp_x2, lags = 30)"
   ]
  },
  {
   "cell_type": "code",
   "execution_count": null,
   "id": "6fd5d3e4",
   "metadata": {},
   "outputs": [],
   "source": [
    "resid_hw = log_passengers - airpass_smpl_exp_hw_3.fittedvalues\n",
    "tsdisplay(resid_hw, lags = 30)"
   ]
  },
  {
   "cell_type": "code",
   "execution_count": null,
   "id": "5f6c302e",
   "metadata": {},
   "outputs": [],
   "source": [
    "tsdiag(resid_hw)"
   ]
  },
  {
   "cell_type": "code",
   "execution_count": null,
   "id": "194d9718",
   "metadata": {},
   "outputs": [],
   "source": [
    "resid_mdl_order = sm.tsa.stattools.arma_order_select_ic(resid_hw, ic = 'aic', trend = 'nc')\n",
    "resid_mdl_order"
   ]
  },
  {
   "cell_type": "code",
   "execution_count": null,
   "id": "867050c8",
   "metadata": {},
   "outputs": [],
   "source": [
    "resid_mdl_order.aic_min_order"
   ]
  },
  {
   "cell_type": "code",
   "execution_count": null,
   "id": "61de1956",
   "metadata": {},
   "outputs": [],
   "source": [
    "AP_OLS_trend = smf.ols(formula = 'np.log(AP) ~ time + time_sq', data = dtf)\n",
    "AP_OLS_trend_fit = AP_OLS_trend.fit()\n",
    "print(AP_OLS_trend_fit.summary().tables[1])"
   ]
  },
  {
   "cell_type": "code",
   "execution_count": null,
   "id": "9d4d33f2",
   "metadata": {},
   "outputs": [],
   "source": [
    "tsdisplay(AP_OLS_trend_fit.resid, lags = 25)"
   ]
  },
  {
   "cell_type": "code",
   "execution_count": null,
   "id": "7a0a8da0",
   "metadata": {},
   "outputs": [],
   "source": [
    "resid_sarima = sm.tsa.statespace.SARIMAX(AP_OLS_trend_fit.resid, order=(2, 0, 2), seasonal_order=(1, 0, 1, 12))\n",
    "resid_sarima_fit = resid_sarima.fit()"
   ]
  },
  {
   "cell_type": "code",
   "execution_count": null,
   "id": "2235150e",
   "metadata": {},
   "outputs": [],
   "source": [
    "print(resid_sarima_fit.summary())"
   ]
  },
  {
   "cell_type": "code",
   "execution_count": null,
   "id": "5a3af03f",
   "metadata": {},
   "outputs": [],
   "source": [
    "tsdisplay(resid_sarima_fit.resid)"
   ]
  },
  {
   "cell_type": "code",
   "execution_count": null,
   "id": "65a06a5f",
   "metadata": {},
   "outputs": [],
   "source": [
    "warnings.filterwarnings(\"ignore\", category = FutureWarning)\n",
    "warnings.filterwarnings(\"ignore\", category = RuntimeWarning)\n",
    "warnings.filterwarnings(\"ignore\", category = sm.tools.sm_exceptions.ValueWarning)\n",
    "warnings.filterwarnings(\"ignore\", category = sm.tools.sm_exceptions.HessianInversionWarning)\n",
    "warnings.filterwarnings(\"ignore\", category = sm.tools.sm_exceptions.ConvergenceWarning)"
   ]
  },
  {
   "cell_type": "code",
   "execution_count": null,
   "id": "0ef584bc",
   "metadata": {},
   "outputs": [],
   "source": [
    "# Specify the best AIC - default is infinite - so anything lower is better\n",
    "best_aic = None\n",
    "# Specify the best order\n",
    "best_order = None\n",
    "# Specify the best model\n",
    "best_mdl = None\n",
    "# Loop through different (p, q) combinations, starting from SARMA(0, 0)(0, 0), to SARMA(1, 1)(1, 1)\n",
    "pq_rng = range(2) # range(5) would be [0,1,2,3,4]\n",
    "for p in pq_rng:\n",
    "    for q in pq_rng:\n",
    "        for P in pq_rng:\n",
    "            for Q in pq_rng:\n",
    "                try:\n",
    "                    tmp_mdl = sm.tsa.statespace.SARIMAX(AP_OLS_trend_fit.resid, \n",
    "                                                        order=(p, 0, q),\n",
    "                                                        seasonal_order=(P, 0, Q, 12))\n",
    "                    tmp_mdl_fit = tmp_mdl.fit()\n",
    "                    tmp_aic = tmp_mdl_fit.aic\n",
    "                    if best_aic == None:\n",
    "                        best_aic = tmp_aic\n",
    "                        best_order = {\"Nonseasonal\": (p, 0, q), \"Seasonal\": (P, 0, Q)}\n",
    "                        best_mdl = tmp_mdl\n",
    "                        print(\"Fitted an ARMA(\" + str(p) + \", \" + str(q) + \")(\" + \n",
    "                              str(P) + \", \" + str(Q) + \")_12 model - it was better\")\n",
    "                    elif tmp_aic < best_aic:\n",
    "                        best_aic = tmp_aic\n",
    "                        best_order = {\"Nonseasonal\": (p, 0, q), \"Seasonal\": (P, 0, Q)}\n",
    "                        best_mdl = tmp_mdl\n",
    "                        print(\"Fitted an ARMA(\" + str(p) + \", \" + str(q) + \")(\" + \n",
    "                              str(P) + \", \" + str(Q) + \")_12 model - it was better\")\n",
    "                    else:\n",
    "                        print(\"Fitted an ARMA(\" + str(p) + \", \" + str(q) + \")(\" + \n",
    "                              str(P) + \", \" + str(Q) + \")_12 model - it was worse\")\n",
    "                except: continue"
   ]
  },
  {
   "cell_type": "code",
   "execution_count": null,
   "id": "cb344fd0",
   "metadata": {},
   "outputs": [],
   "source": [
    "print(tmp_mdl_fit.summary())"
   ]
  },
  {
   "cell_type": "code",
   "execution_count": null,
   "id": "adb4cf9c",
   "metadata": {},
   "outputs": [],
   "source": [
    "tsdisplay(tmp_mdl_fit.resid)"
   ]
  },
  {
   "cell_type": "code",
   "execution_count": null,
   "id": "fa281a8d",
   "metadata": {},
   "outputs": [],
   "source": [
    "pd.DataFrame([[resid_sarima_fit.aic, tmp_mdl_fit.aic], \n",
    "              [resid_sarima_fit.bic, tmp_mdl_fit.bic]], \n",
    "             index = [\"AIC\", \"BIC\"], columns = [\"Manual\", \"Auto\"])"
   ]
  },
  {
   "cell_type": "code",
   "execution_count": null,
   "id": "98c070cf",
   "metadata": {},
   "outputs": [],
   "source": [
    "Y_fit = np.exp(AP_OLS_trend_fit.fittedvalues + resid_sarima_fit.fittedvalues)"
   ]
  },
  {
   "cell_type": "code",
   "execution_count": null,
   "id": "67a963c8",
   "metadata": {},
   "outputs": [],
   "source": [
    "Y_fit = pd.Series(Y_fit)\n",
    "Y_fit.index = airpass.index"
   ]
  },
  {
   "cell_type": "code",
   "execution_count": null,
   "id": "5acf88ac",
   "metadata": {},
   "outputs": [],
   "source": [
    "Y_trend = np.exp(AP_OLS_trend_fit.fittedvalues)\n",
    "Y_trend = pd.Series(Y_trend)\n",
    "Y_trend.index = airpass.index"
   ]
  },
  {
   "cell_type": "code",
   "execution_count": null,
   "id": "9a5a1802",
   "metadata": {},
   "outputs": [],
   "source": [
    "fig = plt.figure(figsize = (20, 6))\n",
    "ax1 = fig.add_subplot(111)\n",
    "#\n",
    "airpass.plot(label = \"Actual\", ax = ax1)\n",
    "Y_fit.plot(label = \"Fitted\", ax = ax1)\n",
    "Y_trend.plot(label = \"Estimated Trend\", ax = ax1)\n",
    "plt.title(\"Actual vs fitted plot\")\n",
    "plt.legend()\n",
    "plt.show()"
   ]
  },
  {
   "cell_type": "code",
   "execution_count": null,
   "id": "38aaf797",
   "metadata": {},
   "outputs": [],
   "source": [
    "dtf.tail()"
   ]
  },
  {
   "cell_type": "code",
   "execution_count": null,
   "id": "9d9fed7c",
   "metadata": {},
   "outputs": [],
   "source": [
    "time_forc = np.array(list(range(145, 145 + 20)))"
   ]
  },
  {
   "cell_type": "code",
   "execution_count": null,
   "id": "e91c5056",
   "metadata": {},
   "outputs": [],
   "source": [
    "dt_forc = pd.DataFrame([time_forc, time_forc**2], index = [\"time\", \"time_sq\"])"
   ]
  },
  {
   "cell_type": "code",
   "execution_count": null,
   "id": "1c9a7590",
   "metadata": {},
   "outputs": [],
   "source": [
    "dt_forc.head()"
   ]
  },
  {
   "cell_type": "code",
   "execution_count": null,
   "id": "966fbe65",
   "metadata": {},
   "outputs": [],
   "source": [
    "dt_forc = dt_forc.T"
   ]
  },
  {
   "cell_type": "code",
   "execution_count": null,
   "id": "6333a17b",
   "metadata": {},
   "outputs": [],
   "source": [
    "dt_forc.head()"
   ]
  },
  {
   "cell_type": "code",
   "execution_count": null,
   "id": "312179bf",
   "metadata": {},
   "outputs": [],
   "source": [
    "trend_forc = AP_OLS_trend_fit.predict(dt_forc)"
   ]
  },
  {
   "cell_type": "code",
   "execution_count": null,
   "id": "8c81e144",
   "metadata": {},
   "outputs": [],
   "source": [
    "trend_forc.head()"
   ]
  },
  {
   "cell_type": "code",
   "execution_count": null,
   "id": "4162da71",
   "metadata": {},
   "outputs": [],
   "source": [
    "resid_forc = resid_sarima_fit.forecast(steps = len(dt_forc))"
   ]
  },
  {
   "cell_type": "code",
   "execution_count": null,
   "id": "e8141ec1",
   "metadata": {},
   "outputs": [],
   "source": [
    "resid_forc.head()"
   ]
  },
  {
   "cell_type": "code",
   "execution_count": null,
   "id": "cff71651",
   "metadata": {},
   "outputs": [],
   "source": [
    "# the last date in the historical data\n",
    "airpass.index[-1]"
   ]
  },
  {
   "cell_type": "code",
   "execution_count": null,
   "id": "93208150",
   "metadata": {},
   "outputs": [],
   "source": [
    "forc_index = pd.date_range(start = airpass.index[-1] + 1, periods = len(resid_forc.index), freq = \"M\").to_period()\n",
    "forc_index = forc_index.to_timestamp()"
   ]
  },
  {
   "cell_type": "code",
   "execution_count": null,
   "id": "17bb8416",
   "metadata": {},
   "outputs": [],
   "source": [
    "forc_index"
   ]
  },
  {
   "cell_type": "code",
   "execution_count": null,
   "id": "5d3a8c92",
   "metadata": {},
   "outputs": [],
   "source": [
    "resid_forc.index = forc_index\n",
    "trend_forc.index = forc_index"
   ]
  },
  {
   "cell_type": "code",
   "execution_count": null,
   "id": "12110c0a",
   "metadata": {},
   "outputs": [],
   "source": [
    "np.exp(resid_forc + trend_forc).head()"
   ]
  },
  {
   "cell_type": "code",
   "execution_count": null,
   "id": "bd3edbcb",
   "metadata": {},
   "outputs": [],
   "source": [
    "(np.exp(resid_forc) * np.exp(trend_forc)).head()"
   ]
  },
  {
   "cell_type": "code",
   "execution_count": null,
   "id": "3e91f7cf",
   "metadata": {},
   "outputs": [],
   "source": [
    "Y_forc = np.exp(resid_forc + trend_forc)"
   ]
  },
  {
   "cell_type": "code",
   "execution_count": null,
   "id": "372e25b6",
   "metadata": {},
   "outputs": [],
   "source": [
    "pd.Series(Y_forc)"
   ]
  },
  {
   "cell_type": "code",
   "execution_count": null,
   "id": "cde4aee5",
   "metadata": {},
   "outputs": [],
   "source": [
    "fig = plt.figure(figsize = (20, 6))\n",
    "ax1 = fig.add_subplot(111)\n",
    "#\n",
    "airpass.plot(label = \"Actual\", ax = ax1)\n",
    "Y_fit.plot(label = \"Fitted\", ax = ax1)\n",
    "Y_forc.plot(label = \"Forecast\", ax = ax1)\n",
    "#\n",
    "plt.legend()\n",
    "plt.show()"
   ]
  },
  {
   "cell_type": "code",
   "execution_count": null,
   "id": "e76b690c",
   "metadata": {},
   "outputs": [],
   "source": [
    "airpass_ks = sm.nonparametric.KernelReg(endog = airpass, exog = time, var_type = \"c\", reg_type = \"lc\")"
   ]
  },
  {
   "cell_type": "code",
   "execution_count": null,
   "id": "44a3229d",
   "metadata": {},
   "outputs": [],
   "source": [
    "airpass_ks_fit = airpass_ks.fit()"
   ]
  },
  {
   "cell_type": "code",
   "execution_count": null,
   "id": "40fbfd5a",
   "metadata": {},
   "outputs": [],
   "source": [
    "airpass_ks_smoothed = pd.Series(airpass_ks_fit[0])\n",
    "airpass_ks_smoothed.index = airpass.index"
   ]
  },
  {
   "cell_type": "code",
   "execution_count": null,
   "id": "23a7b9ec",
   "metadata": {},
   "outputs": [],
   "source": [
    "airpass_ma  = smt.seasonal.seasonal_decompose(airpass, model = \"muliplicative\", freq = 12, two_sided = False)\n",
    "airpass_ma_smoothed = airpass_ma.trend"
   ]
  },
  {
   "cell_type": "code",
   "execution_count": null,
   "id": "affddca8",
   "metadata": {},
   "outputs": [],
   "source": [
    "plt.figure(figsize = (20, 6))\n",
    "#\n",
    "plt.plot(airpass, label = \"Actual\")\n",
    "plt.plot(airpass_ks_smoothed, label = \"Kernel Smoothing\")\n",
    "plt.plot(airpass_ma_smoothed, label = \"Moving Average\")\n",
    "#\n",
    "plt.legend()\n",
    "plt.show()"
   ]
  },
  {
   "cell_type": "code",
   "execution_count": null,
   "id": "43d00884",
   "metadata": {},
   "outputs": [],
   "source": [
    "airpass_lowess = sm.nonparametric.lowess(endog = airpass, exog = time)"
   ]
  },
  {
   "cell_type": "code",
   "execution_count": null,
   "id": "52956c9e",
   "metadata": {},
   "outputs": [],
   "source": [
    "airpass_lowess_smoothed = pd.Series(airpass_lowess[:, 1])\n",
    "airpass_lowess_smoothed.index = airpass.index"
   ]
  },
  {
   "cell_type": "code",
   "execution_count": null,
   "id": "e732e77c",
   "metadata": {},
   "outputs": [],
   "source": [
    "airpass_lowess_5pct = sm.nonparametric.lowess(endog = airpass, exog = time, frac = 0.05)"
   ]
  },
  {
   "cell_type": "code",
   "execution_count": null,
   "id": "400461fa",
   "metadata": {},
   "outputs": [],
   "source": [
    "airpass_lowess_5pct_smoothed = pd.Series(airpass_lowess_5pct[:, 1])\n",
    "airpass_lowess_5pct_smoothed.index = airpass.index"
   ]
  },
  {
   "cell_type": "code",
   "execution_count": null,
   "id": "d3973234",
   "metadata": {},
   "outputs": [],
   "source": [
    "plt.figure(figsize = (20, 8))\n",
    "#\n",
    "plt.plot(airpass, label = \"Actual\")\n",
    "plt.plot(airpass_ks_smoothed, label = \"Kernel Smoothing\")\n",
    "plt.plot(airpass_ma_smoothed, label = \"Moving Average\")\n",
    "plt.plot(airpass_lowess_smoothed, label = \"LOWESS, default (2/3) obs. smoothing\")\n",
    "plt.plot(airpass_lowess_5pct_smoothed, label = \"LOWESS, 5% obs. smoothing\", color = \"red\", linestyle = \"--\")\n",
    "#\n",
    "plt.legend()\n",
    "plt.show()"
   ]
  },
  {
   "cell_type": "code",
   "execution_count": null,
   "id": "ffeb87f7",
   "metadata": {},
   "outputs": [],
   "source": [
    "from patsy import dmatrix"
   ]
  },
  {
   "cell_type": "code",
   "execution_count": null,
   "id": "6a1a5b57",
   "metadata": {},
   "outputs": [],
   "source": [
    "transformed_x2 = dmatrix(\"cr(time, df = 3)\", {\"time\": time}, return_type = 'dataframe')\n",
    "transformed_x2.index = airpass.index"
   ]
  },
  {
   "cell_type": "code",
   "execution_count": null,
   "id": "27b3f58d",
   "metadata": {},
   "outputs": [],
   "source": [
    "airpass_cubic_spline = sm.GLM(airpass, transformed_x2)\n",
    "airpass_cubic_smoothed = airpass_cubic_spline.fit()"
   ]
  },
  {
   "cell_type": "code",
   "execution_count": null,
   "id": "784897b4",
   "metadata": {},
   "outputs": [],
   "source": [
    "plt.figure(figsize = (20, 4))\n",
    "#\n",
    "plt.plot(airpass, label = \"Actual\")\n",
    "plt.plot(airpass_cubic_smoothed.fittedvalues, label = \"Cubic Smoothing Splines\")\n",
    "#\n",
    "plt.legend()\n",
    "plt.show()"
   ]
  },
  {
   "cell_type": "code",
   "execution_count": null,
   "id": "80c5dc06",
   "metadata": {},
   "outputs": [],
   "source": [
    "plt.figure(figsize = (20, 8))\n",
    "#\n",
    "plt.plot(airpass, label = \"Actual\")\n",
    "plt.plot(airpass_ks_smoothed, label = \"Kernel Smoothing\")\n",
    "plt.plot(airpass_ma_smoothed, label = \"Moving Average\")\n",
    "plt.plot(airpass_lowess_smoothed, label = \"LOWESS, default (2/3) obs. smoothing\")\n",
    "plt.plot(airpass_cubic_smoothed.fittedvalues, label = \"Cubic Smoothing Splines\")\n",
    "#\n",
    "plt.legend()\n",
    "plt.show()"
   ]
  },
  {
   "cell_type": "code",
   "execution_count": null,
   "id": "551e327e",
   "metadata": {},
   "outputs": [],
   "source": []
  }
 ],
 "metadata": {
  "kernelspec": {
   "display_name": "Python 3",
   "language": "python",
   "name": "python3"
  },
  "language_info": {
   "codemirror_mode": {
    "name": "ipython",
    "version": 3
   },
   "file_extension": ".py",
   "mimetype": "text/x-python",
   "name": "python",
   "nbconvert_exporter": "python",
   "pygments_lexer": "ipython3",
   "version": "3.8.8"
  }
 },
 "nbformat": 4,
 "nbformat_minor": 5
}
